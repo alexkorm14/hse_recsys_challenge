{
 "cells": [
  {
   "cell_type": "code",
   "id": "initial_id",
   "metadata": {
    "collapsed": true,
    "ExecuteTime": {
     "end_time": "2024-10-24T16:06:44.410265Z",
     "start_time": "2024-10-24T16:06:41.540757Z"
    }
   },
   "source": [
    "import lightning as L\n",
    "from lightning.pytorch.loggers import CSVLogger\n",
    "from lightning.pytorch.callbacks import ModelCheckpoint\n",
    "from torch.utils.data import DataLoader\n",
    "import torch\n",
    "\n",
    "from replay.metrics import OfflineMetrics, Recall, Precision, MAP, NDCG, HitRate, MRR\n",
    "from replay.metrics.torch_metrics_builder import metrics_to_df\n",
    "from replay.splitters import LastNSplitter\n",
    "from replay.utils import get_spark_session\n",
    "from replay.data import (\n",
    "    FeatureHint,\n",
    "    FeatureInfo,\n",
    "    FeatureSchema,\n",
    "    FeatureSource,\n",
    "    FeatureType,\n",
    "    Dataset,\n",
    ")\n",
    "from replay.models.nn.optimizer_utils import FatOptimizerFactory\n",
    "from replay.models.nn.sequential.callbacks import (\n",
    "    ValidationMetricsCallback,\n",
    "    SparkPredictionCallback,\n",
    "    PandasPredictionCallback, \n",
    "    TorchPredictionCallback,\n",
    "    QueryEmbeddingsPredictionCallback,\n",
    ")\n",
    "from replay.models.nn.sequential.postprocessors import RemoveSeenItems\n",
    "from replay.data.nn import (\n",
    "    SequenceTokenizer,\n",
    "    SequentialDataset,\n",
    "    TensorFeatureSource,\n",
    "    TensorSchema,\n",
    "    TensorFeatureInfo\n",
    ")\n",
    "from replay.models.nn.sequential import Bert4Rec\n",
    "from replay.models.nn.sequential.bert4rec import (\n",
    "    Bert4RecPredictionDataset,\n",
    "    Bert4RecTrainingDataset,\n",
    "    Bert4RecValidationDataset,\n",
    "    Bert4RecPredictionBatch,\n",
    "    Bert4RecModel\n",
    ")\n",
    "\n",
    "import pandas as pd"
   ],
   "outputs": [],
   "execution_count": 1
  },
  {
   "metadata": {
    "ExecuteTime": {
     "end_time": "2024-10-24T16:07:03.288292Z",
     "start_time": "2024-10-24T16:07:03.162112Z"
    }
   },
   "cell_type": "code",
   "source": [
    "# Загрузка данных\n",
    "user_features = pd.read_csv('data/user_features.csv')\n",
    "item_features = pd.read_csv('data/item_features.csv')\n",
    "interactions  = pd.read_csv('data/events.csv')"
   ],
   "id": "58c0ab8d479b3328",
   "outputs": [],
   "execution_count": 2
  },
  {
   "metadata": {
    "ExecuteTime": {
     "end_time": "2024-10-24T16:07:04.753343Z",
     "start_time": "2024-10-24T16:07:04.642617Z"
    }
   },
   "cell_type": "code",
   "source": [
    "interactions[\"timestamp\"] = interactions[\"timestamp\"].astype(\"int64\")\n",
    "interactions = interactions.sort_values(by=\"timestamp\")\n",
    "interactions[\"timestamp\"] = interactions.groupby(\"user_id\").cumcount()\n",
    "interactions"
   ],
   "id": "e15364ce3ef0cc8a",
   "outputs": [
    {
     "data": {
      "text/plain": [
       "        user_id  item_id  rating  timestamp\n",
       "0             0     1505       4          0\n",
       "511292     3433     3022       3          0\n",
       "511349     3434     3673       2          0\n",
       "511721     3435      358       1          0\n",
       "511769     3436     1279       4          0\n",
       "...         ...      ...     ...        ...\n",
       "336760     2257     3452       3       2051\n",
       "336761     2257     2749       3       2052\n",
       "336762     2257     2623       3       2053\n",
       "336763     2257     1175       4       2054\n",
       "336764     2257     1155       2       2055\n",
       "\n",
       "[894149 rows x 4 columns]"
      ],
      "text/html": [
       "<div>\n",
       "<style scoped>\n",
       "    .dataframe tbody tr th:only-of-type {\n",
       "        vertical-align: middle;\n",
       "    }\n",
       "\n",
       "    .dataframe tbody tr th {\n",
       "        vertical-align: top;\n",
       "    }\n",
       "\n",
       "    .dataframe thead th {\n",
       "        text-align: right;\n",
       "    }\n",
       "</style>\n",
       "<table border=\"1\" class=\"dataframe\">\n",
       "  <thead>\n",
       "    <tr style=\"text-align: right;\">\n",
       "      <th></th>\n",
       "      <th>user_id</th>\n",
       "      <th>item_id</th>\n",
       "      <th>rating</th>\n",
       "      <th>timestamp</th>\n",
       "    </tr>\n",
       "  </thead>\n",
       "  <tbody>\n",
       "    <tr>\n",
       "      <th>0</th>\n",
       "      <td>0</td>\n",
       "      <td>1505</td>\n",
       "      <td>4</td>\n",
       "      <td>0</td>\n",
       "    </tr>\n",
       "    <tr>\n",
       "      <th>511292</th>\n",
       "      <td>3433</td>\n",
       "      <td>3022</td>\n",
       "      <td>3</td>\n",
       "      <td>0</td>\n",
       "    </tr>\n",
       "    <tr>\n",
       "      <th>511349</th>\n",
       "      <td>3434</td>\n",
       "      <td>3673</td>\n",
       "      <td>2</td>\n",
       "      <td>0</td>\n",
       "    </tr>\n",
       "    <tr>\n",
       "      <th>511721</th>\n",
       "      <td>3435</td>\n",
       "      <td>358</td>\n",
       "      <td>1</td>\n",
       "      <td>0</td>\n",
       "    </tr>\n",
       "    <tr>\n",
       "      <th>511769</th>\n",
       "      <td>3436</td>\n",
       "      <td>1279</td>\n",
       "      <td>4</td>\n",
       "      <td>0</td>\n",
       "    </tr>\n",
       "    <tr>\n",
       "      <th>...</th>\n",
       "      <td>...</td>\n",
       "      <td>...</td>\n",
       "      <td>...</td>\n",
       "      <td>...</td>\n",
       "    </tr>\n",
       "    <tr>\n",
       "      <th>336760</th>\n",
       "      <td>2257</td>\n",
       "      <td>3452</td>\n",
       "      <td>3</td>\n",
       "      <td>2051</td>\n",
       "    </tr>\n",
       "    <tr>\n",
       "      <th>336761</th>\n",
       "      <td>2257</td>\n",
       "      <td>2749</td>\n",
       "      <td>3</td>\n",
       "      <td>2052</td>\n",
       "    </tr>\n",
       "    <tr>\n",
       "      <th>336762</th>\n",
       "      <td>2257</td>\n",
       "      <td>2623</td>\n",
       "      <td>3</td>\n",
       "      <td>2053</td>\n",
       "    </tr>\n",
       "    <tr>\n",
       "      <th>336763</th>\n",
       "      <td>2257</td>\n",
       "      <td>1175</td>\n",
       "      <td>4</td>\n",
       "      <td>2054</td>\n",
       "    </tr>\n",
       "    <tr>\n",
       "      <th>336764</th>\n",
       "      <td>2257</td>\n",
       "      <td>1155</td>\n",
       "      <td>2</td>\n",
       "      <td>2055</td>\n",
       "    </tr>\n",
       "  </tbody>\n",
       "</table>\n",
       "<p>894149 rows × 4 columns</p>\n",
       "</div>"
      ]
     },
     "execution_count": 3,
     "metadata": {},
     "output_type": "execute_result"
    }
   ],
   "execution_count": 3
  },
  {
   "metadata": {
    "ExecuteTime": {
     "end_time": "2024-10-24T16:07:16.464877Z",
     "start_time": "2024-10-24T16:07:15.688031Z"
    }
   },
   "cell_type": "code",
   "source": [
    "splitter = LastNSplitter(\n",
    "    N=1,\n",
    "    divide_column=\"user_id\",\n",
    "    query_column=\"user_id\",\n",
    "    strategy=\"interactions\",\n",
    ")\n",
    "\n",
    "raw_test_events, raw_test_gt = splitter.split(interactions)\n",
    "raw_validation_events, raw_validation_gt = splitter.split(raw_test_events)\n",
    "raw_train_events = raw_validation_events"
   ],
   "id": "6a047a13f8003363",
   "outputs": [],
   "execution_count": 4
  },
  {
   "metadata": {
    "ExecuteTime": {
     "end_time": "2024-10-24T16:07:21.120418Z",
     "start_time": "2024-10-24T16:07:21.114418Z"
    }
   },
   "cell_type": "code",
   "source": [
    "def prepare_feature_schema(is_ground_truth: bool) -> FeatureSchema:\n",
    "    base_features = FeatureSchema(\n",
    "        [\n",
    "            FeatureInfo(\n",
    "                column=\"user_id\",\n",
    "                feature_hint=FeatureHint.QUERY_ID,\n",
    "                feature_type=FeatureType.CATEGORICAL,\n",
    "            ),\n",
    "            FeatureInfo(\n",
    "                column=\"item_id\",\n",
    "                feature_hint=FeatureHint.ITEM_ID,\n",
    "                feature_type=FeatureType.CATEGORICAL,\n",
    "            ),\n",
    "        ]\n",
    "    )\n",
    "    if is_ground_truth:\n",
    "        return base_features\n",
    "\n",
    "    all_features = base_features + FeatureSchema(\n",
    "        [\n",
    "            FeatureInfo(\n",
    "                column=\"timestamp\",\n",
    "                feature_type=FeatureType.NUMERICAL,\n",
    "                feature_hint=FeatureHint.TIMESTAMP,\n",
    "            ),\n",
    "        ]\n",
    "    )\n",
    "    return all_features"
   ],
   "id": "b47a46d964e9e66c",
   "outputs": [],
   "execution_count": 5
  },
  {
   "metadata": {
    "ExecuteTime": {
     "end_time": "2024-10-24T16:07:25.317766Z",
     "start_time": "2024-10-24T16:07:25.293766Z"
    }
   },
   "cell_type": "code",
   "source": [
    "train_dataset = Dataset(\n",
    "    feature_schema=prepare_feature_schema(is_ground_truth=False),\n",
    "    interactions=raw_train_events,\n",
    "    query_features=user_features,\n",
    "    item_features=item_features,\n",
    "    check_consistency=True,\n",
    "    categorical_encoded=False,\n",
    ")"
   ],
   "id": "837192c529dd3f80",
   "outputs": [],
   "execution_count": 6
  },
  {
   "metadata": {
    "ExecuteTime": {
     "end_time": "2024-10-24T16:07:29.269907Z",
     "start_time": "2024-10-24T16:07:29.245812Z"
    }
   },
   "cell_type": "code",
   "source": [
    "validation_dataset = Dataset(\n",
    "    feature_schema=prepare_feature_schema(is_ground_truth=False),\n",
    "    interactions=raw_validation_events,\n",
    "    query_features=user_features,\n",
    "    item_features=item_features,\n",
    "    check_consistency=True,\n",
    "    categorical_encoded=False,\n",
    ")\n",
    "validation_gt = Dataset(\n",
    "    feature_schema=prepare_feature_schema(is_ground_truth=True),\n",
    "    interactions=raw_validation_gt,\n",
    "    check_consistency=True,\n",
    "    categorical_encoded=False,\n",
    ")"
   ],
   "id": "c15ae107e8682eb4",
   "outputs": [],
   "execution_count": 7
  },
  {
   "metadata": {
    "ExecuteTime": {
     "end_time": "2024-10-24T16:07:33.465255Z",
     "start_time": "2024-10-24T16:07:33.442257Z"
    }
   },
   "cell_type": "code",
   "source": [
    "test_dataset = Dataset(\n",
    "    feature_schema=prepare_feature_schema(is_ground_truth=False),\n",
    "    interactions=raw_test_events,\n",
    "    query_features=user_features,\n",
    "    item_features=item_features,\n",
    "    check_consistency=True,\n",
    "    categorical_encoded=False,\n",
    ")\n",
    "test_gt = Dataset(\n",
    "    feature_schema=prepare_feature_schema(is_ground_truth=True),\n",
    "    interactions=raw_test_gt,\n",
    "    check_consistency=True,\n",
    "    categorical_encoded=False,\n",
    ")"
   ],
   "id": "2b6a99c1836dc82a",
   "outputs": [],
   "execution_count": 8
  },
  {
   "metadata": {
    "ExecuteTime": {
     "end_time": "2024-10-24T16:07:38.098289Z",
     "start_time": "2024-10-24T16:07:38.092290Z"
    }
   },
   "cell_type": "code",
   "source": [
    "ITEM_FEATURE_NAME = \"item_id_seq\"\n",
    "\n",
    "tensor_schema = TensorSchema(\n",
    "    TensorFeatureInfo(\n",
    "        name=ITEM_FEATURE_NAME,\n",
    "        is_seq=True,\n",
    "        feature_type=FeatureType.CATEGORICAL,\n",
    "        feature_sources=[TensorFeatureSource(FeatureSource.INTERACTIONS, train_dataset.feature_schema.item_id_column)],\n",
    "        feature_hint=FeatureHint.ITEM_ID,\n",
    "        embedding_dim=300,\n",
    "    )\n",
    ")"
   ],
   "id": "79d8ee42df1dd9f9",
   "outputs": [],
   "execution_count": 9
  },
  {
   "metadata": {
    "ExecuteTime": {
     "end_time": "2024-10-24T16:07:43.412147Z",
     "start_time": "2024-10-24T16:07:42.506394Z"
    }
   },
   "cell_type": "code",
   "source": [
    "tokenizer = SequenceTokenizer(tensor_schema, allow_collect_to_master=True)\n",
    "tokenizer.fit(train_dataset)\n",
    "\n",
    "sequential_train_dataset = tokenizer.transform(train_dataset)\n",
    "\n",
    "sequential_validation_dataset = tokenizer.transform(validation_dataset)\n",
    "sequential_validation_gt = tokenizer.transform(validation_gt, [tensor_schema.item_id_feature_name])\n",
    "\n",
    "sequential_validation_dataset, sequential_validation_gt = SequentialDataset.keep_common_query_ids(\n",
    "    sequential_validation_dataset, sequential_validation_gt\n",
    ")"
   ],
   "id": "bd5a1f262e01d44d",
   "outputs": [],
   "execution_count": 10
  },
  {
   "metadata": {
    "ExecuteTime": {
     "end_time": "2024-10-24T16:07:48.825126Z",
     "start_time": "2024-10-24T16:07:48.373830Z"
    }
   },
   "cell_type": "code",
   "source": [
    "test_query_ids = test_gt.query_ids\n",
    "test_query_ids_np = tokenizer.query_id_encoder.transform(test_query_ids)[\"user_id\"].values\n",
    "sequential_test_dataset = tokenizer.transform(test_dataset).filter_by_query_id(test_query_ids_np)"
   ],
   "id": "813eb96eedcdc894",
   "outputs": [],
   "execution_count": 11
  },
  {
   "metadata": {
    "ExecuteTime": {
     "end_time": "2024-10-24T16:51:06.921397Z",
     "start_time": "2024-10-24T16:08:49.427603Z"
    }
   },
   "cell_type": "code",
   "source": [
    "MAX_SEQ_LEN = 100\n",
    "BATCH_SIZE = 1024\n",
    "NUM_WORKERS = 4\n",
    "\n",
    "model = Bert4Rec(\n",
    "    tensor_schema,\n",
    "    block_count=2,\n",
    "    head_count=4,\n",
    "    max_seq_len=MAX_SEQ_LEN,\n",
    "    hidden_size=300,\n",
    "    dropout_rate=0.5,\n",
    "    optimizer_factory=FatOptimizerFactory(learning_rate=0.001),\n",
    ")\n",
    "checkpoint_callback = ModelCheckpoint(\n",
    "    dirpath=\".checkpoints_bert4rec\",\n",
    "    save_top_k=1,\n",
    "    verbose=True,\n",
    "    # if you use multiple dataloaders, then add the serial number of the dataloader to the suffix of the metric name.\n",
    "    # For example,\"recall@10/dataloader_idx_0\"\n",
    "    monitor=\"recall@10\",\n",
    "    mode=\"max\",\n",
    ")\n",
    "\n",
    "validation_metrics_callback = ValidationMetricsCallback(\n",
    "    metrics=[\"map\", \"ndcg\", \"recall\"],\n",
    "    ks=[1, 5, 10, 20],\n",
    "    item_count=train_dataset.item_count,\n",
    "    postprocessors=[RemoveSeenItems(sequential_validation_dataset)]\n",
    ")\n",
    "\n",
    "csv_logger = CSVLogger(save_dir=\".logs/train\", name=\"Bert4Rec_example\")\n",
    "\n",
    "trainer = L.Trainer(\n",
    "    max_epochs=100,\n",
    "    callbacks=[checkpoint_callback, validation_metrics_callback],\n",
    "    logger=csv_logger,\n",
    ")\n",
    "\n",
    "train_dataloader = DataLoader(\n",
    "    dataset=Bert4RecTrainingDataset(\n",
    "        sequential_train_dataset,\n",
    "        max_sequence_length=MAX_SEQ_LEN,\n",
    "    ),\n",
    "    batch_size=BATCH_SIZE,\n",
    "    shuffle=True,\n",
    "    num_workers=4,\n",
    "    pin_memory=True,\n",
    ")\n",
    "\n",
    "validation_dataloader = DataLoader(\n",
    "    dataset=Bert4RecValidationDataset(\n",
    "        sequential_validation_dataset,\n",
    "        sequential_validation_gt,\n",
    "        sequential_train_dataset,\n",
    "        max_sequence_length=MAX_SEQ_LEN,\n",
    "    ),\n",
    "    batch_size=BATCH_SIZE,\n",
    "    num_workers=NUM_WORKERS,\n",
    "    pin_memory=True,\n",
    ")\n",
    "\n",
    "trainer.fit(\n",
    "    model,\n",
    "    train_dataloaders=train_dataloader,\n",
    "    val_dataloaders=validation_dataloader,\n",
    ")"
   ],
   "id": "df42bed50e5c2b6f",
   "outputs": [
    {
     "name": "stderr",
     "output_type": "stream",
     "text": [
      "GPU available: True (cuda), used: True\n",
      "TPU available: False, using: 0 TPU cores\n",
      "HPU available: False, using: 0 HPUs\n",
      "You are using a CUDA device ('NVIDIA GeForce RTX 4090') that has Tensor Cores. To properly utilize them, you should set `torch.set_float32_matmul_precision('medium' | 'high')` which will trade-off precision for performance. For more details, read https://pytorch.org/docs/stable/generated/torch.set_float32_matmul_precision.html#torch.set_float32_matmul_precision\n",
      "LOCAL_RANK: 0 - CUDA_VISIBLE_DEVICES: [0]\n",
      "\n",
      "  | Name   | Type             | Params | Mode \n",
      "----------------------------------------------------\n",
      "0 | _model | Bert4RecModel    | 4.4 M  | train\n",
      "1 | _loss  | CrossEntropyLoss | 0      | train\n",
      "----------------------------------------------------\n",
      "4.4 M     Trainable params\n",
      "0         Non-trainable params\n",
      "4.4 M     Total params\n",
      "17.702    Total estimated model params size (MB)\n",
      "38        Modules in train mode\n",
      "0         Modules in eval mode\n"
     ]
    },
    {
     "data": {
      "text/plain": [
       "Sanity Checking: |          | 0/? [00:00<?, ?it/s]"
      ],
      "application/vnd.jupyter.widget-view+json": {
       "version_major": 2,
       "version_minor": 0,
       "model_id": "a1cda1db9b004e8a9c5cd11d14daf364"
      }
     },
     "metadata": {},
     "output_type": "display_data"
    },
    {
     "name": "stderr",
     "output_type": "stream",
     "text": [
      "C:\\Users\\misha\\Documents\\PyProj\\Recsys_2_new\\.venv\\lib\\site-packages\\lightning\\pytorch\\trainer\\connectors\\data_connector.py:419: Consider setting `persistent_workers=True` in 'val_dataloader' to speed up the dataloader worker initialization.\n",
      "C:\\Users\\misha\\Documents\\PyProj\\Recsys_2_new\\.venv\\lib\\site-packages\\lightning\\pytorch\\trainer\\connectors\\data_connector.py:419: Consider setting `persistent_workers=True` in 'train_dataloader' to speed up the dataloader worker initialization.\n",
      "C:\\Users\\misha\\Documents\\PyProj\\Recsys_2_new\\.venv\\lib\\site-packages\\lightning\\pytorch\\loops\\fit_loop.py:298: The number of training batches (6) is smaller than the logging interval Trainer(log_every_n_steps=50). Set a lower value for log_every_n_steps if you want to see logs for the training epoch.\n"
     ]
    },
    {
     "data": {
      "text/plain": [
       "Training: |          | 0/? [00:00<?, ?it/s]"
      ],
      "application/vnd.jupyter.widget-view+json": {
       "version_major": 2,
       "version_minor": 0,
       "model_id": "bf4f7bc1efb641159e293b6cdb64bedd"
      }
     },
     "metadata": {},
     "output_type": "display_data"
    },
    {
     "data": {
      "text/plain": [
       "Validation: |          | 0/? [00:00<?, ?it/s]"
      ],
      "application/vnd.jupyter.widget-view+json": {
       "version_major": 2,
       "version_minor": 0,
       "model_id": "64abc183e07a4ed598504f941df0b91d"
      }
     },
     "metadata": {},
     "output_type": "display_data"
    },
    {
     "name": "stderr",
     "output_type": "stream",
     "text": [
      "Epoch 0, global step 6: 'recall@10' reached 0.02434 (best 0.02434), saving model to 'C:\\\\Users\\\\misha\\\\Documents\\\\PyProj\\\\Recsys_2_new\\\\.checkpoints_bert4rec\\\\epoch=0-step=6.ckpt' as top 1\n"
     ]
    },
    {
     "name": "stdout",
     "output_type": "stream",
     "text": [
      "k              1        10        20         5\n",
      "map     0.004305  0.008905  0.010396  0.007470\n",
      "ndcg    0.004305  0.012454  0.017975  0.008975\n",
      "recall  0.004305  0.024338  0.046358  0.013576\n",
      "\n"
     ]
    },
    {
     "data": {
      "text/plain": [
       "Validation: |          | 0/? [00:00<?, ?it/s]"
      ],
      "application/vnd.jupyter.widget-view+json": {
       "version_major": 2,
       "version_minor": 0,
       "model_id": "8e95e53f11474b12b7fb0937070bf0a8"
      }
     },
     "metadata": {},
     "output_type": "display_data"
    },
    {
     "name": "stderr",
     "output_type": "stream",
     "text": [
      "Epoch 1, global step 12: 'recall@10' reached 0.03659 (best 0.03659), saving model to 'C:\\\\Users\\\\misha\\\\Documents\\\\PyProj\\\\Recsys_2_new\\\\.checkpoints_bert4rec\\\\epoch=1-step=12.ckpt' as top 1\n"
     ]
    },
    {
     "name": "stdout",
     "output_type": "stream",
     "text": [
      "k              1        10        20         5\n",
      "map     0.003311  0.010563  0.012520  0.008107\n",
      "ndcg    0.003311  0.016503  0.023789  0.010432\n",
      "recall  0.003311  0.036589  0.065728  0.017550\n",
      "\n"
     ]
    },
    {
     "data": {
      "text/plain": [
       "Validation: |          | 0/? [00:00<?, ?it/s]"
      ],
      "application/vnd.jupyter.widget-view+json": {
       "version_major": 2,
       "version_minor": 0,
       "model_id": "56a2efb98b264b68a9dafa6fb5196194"
      }
     },
     "metadata": {},
     "output_type": "display_data"
    },
    {
     "name": "stderr",
     "output_type": "stream",
     "text": [
      "Epoch 2, global step 18: 'recall@10' was not in top 1\n"
     ]
    },
    {
     "name": "stdout",
     "output_type": "stream",
     "text": [
      "k             1        10        20         5\n",
      "map     0.00298  0.010117  0.012074  0.007779\n",
      "ndcg    0.00298  0.016022  0.023362  0.010288\n",
      "recall  0.00298  0.035927  0.065397  0.018046\n",
      "\n"
     ]
    },
    {
     "data": {
      "text/plain": [
       "Validation: |          | 0/? [00:00<?, ?it/s]"
      ],
      "application/vnd.jupyter.widget-view+json": {
       "version_major": 2,
       "version_minor": 0,
       "model_id": "40d00568bb8f4736a81d89517cb6808e"
      }
     },
     "metadata": {},
     "output_type": "display_data"
    },
    {
     "name": "stderr",
     "output_type": "stream",
     "text": [
      "Epoch 3, global step 24: 'recall@10' was not in top 1\n"
     ]
    },
    {
     "name": "stdout",
     "output_type": "stream",
     "text": [
      "k             1        10        20         5\n",
      "map     0.00298  0.009979  0.012100  0.007552\n",
      "ndcg    0.00298  0.015617  0.023519  0.009731\n",
      "recall  0.00298  0.034603  0.066225  0.016391\n",
      "\n"
     ]
    },
    {
     "data": {
      "text/plain": [
       "Validation: |          | 0/? [00:00<?, ?it/s]"
      ],
      "application/vnd.jupyter.widget-view+json": {
       "version_major": 2,
       "version_minor": 0,
       "model_id": "9e45f23c37f1417899cd4ad69760a14b"
      }
     },
     "metadata": {},
     "output_type": "display_data"
    },
    {
     "name": "stderr",
     "output_type": "stream",
     "text": [
      "Epoch 4, global step 30: 'recall@10' was not in top 1\n"
     ]
    },
    {
     "name": "stdout",
     "output_type": "stream",
     "text": [
      "k              1        10        20         5\n",
      "map     0.003974  0.010799  0.012928  0.008557\n",
      "ndcg    0.003974  0.016476  0.024416  0.010965\n",
      "recall  0.003974  0.035596  0.067384  0.018377\n",
      "\n"
     ]
    },
    {
     "data": {
      "text/plain": [
       "Validation: |          | 0/? [00:00<?, ?it/s]"
      ],
      "application/vnd.jupyter.widget-view+json": {
       "version_major": 2,
       "version_minor": 0,
       "model_id": "ecd8b218808e4624ae111fb00b68a0a7"
      }
     },
     "metadata": {},
     "output_type": "display_data"
    },
    {
     "name": "stderr",
     "output_type": "stream",
     "text": [
      "Epoch 5, global step 36: 'recall@10' was not in top 1\n"
     ]
    },
    {
     "name": "stdout",
     "output_type": "stream",
     "text": [
      "k              1        10        20         5\n",
      "map     0.003642  0.011246  0.013208  0.009150\n",
      "ndcg    0.003642  0.016952  0.024216  0.011712\n",
      "recall  0.003642  0.036093  0.065066  0.019536\n",
      "\n"
     ]
    },
    {
     "data": {
      "text/plain": [
       "Validation: |          | 0/? [00:00<?, ?it/s]"
      ],
      "application/vnd.jupyter.widget-view+json": {
       "version_major": 2,
       "version_minor": 0,
       "model_id": "d940dd18dfeb4a6db309bef549625fd9"
      }
     },
     "metadata": {},
     "output_type": "display_data"
    },
    {
     "name": "stderr",
     "output_type": "stream",
     "text": [
      "Epoch 6, global step 42: 'recall@10' was not in top 1\n"
     ]
    },
    {
     "name": "stdout",
     "output_type": "stream",
     "text": [
      "k              1        10        20         5\n",
      "map     0.003146  0.010260  0.012406  0.008389\n",
      "ndcg    0.003146  0.015670  0.023660  0.010968\n",
      "recall  0.003146  0.033775  0.065728  0.018874\n",
      "\n"
     ]
    },
    {
     "data": {
      "text/plain": [
       "Validation: |          | 0/? [00:00<?, ?it/s]"
      ],
      "application/vnd.jupyter.widget-view+json": {
       "version_major": 2,
       "version_minor": 0,
       "model_id": "c0ece8bb27ac432fb6e05681a321f1db"
      }
     },
     "metadata": {},
     "output_type": "display_data"
    },
    {
     "name": "stderr",
     "output_type": "stream",
     "text": [
      "Epoch 7, global step 48: 'recall@10' was not in top 1\n"
     ]
    },
    {
     "name": "stdout",
     "output_type": "stream",
     "text": [
      "k              1        10        20         5\n",
      "map     0.004305  0.010278  0.012390  0.008648\n",
      "ndcg    0.004305  0.015183  0.023022  0.011101\n",
      "recall  0.004305  0.031623  0.062914  0.018709\n",
      "\n"
     ]
    },
    {
     "data": {
      "text/plain": [
       "Validation: |          | 0/? [00:00<?, ?it/s]"
      ],
      "application/vnd.jupyter.widget-view+json": {
       "version_major": 2,
       "version_minor": 0,
       "model_id": "ad3b6def7e774e67870574e8d825612b"
      }
     },
     "metadata": {},
     "output_type": "display_data"
    },
    {
     "name": "stderr",
     "output_type": "stream",
     "text": [
      "Epoch 8, global step 54: 'recall@10' was not in top 1\n"
     ]
    },
    {
     "name": "stdout",
     "output_type": "stream",
     "text": [
      "k              1        10        20         5\n",
      "map     0.004305  0.010715  0.012774  0.008802\n",
      "ndcg    0.004305  0.015707  0.023286  0.010998\n",
      "recall  0.004305  0.032450  0.062583  0.017715\n",
      "\n"
     ]
    },
    {
     "data": {
      "text/plain": [
       "Validation: |          | 0/? [00:00<?, ?it/s]"
      ],
      "application/vnd.jupyter.widget-view+json": {
       "version_major": 2,
       "version_minor": 0,
       "model_id": "1ff767ae5f4e43dfa2ddf4bcd6a9db6f"
      }
     },
     "metadata": {},
     "output_type": "display_data"
    },
    {
     "name": "stderr",
     "output_type": "stream",
     "text": [
      "Epoch 9, global step 60: 'recall@10' was not in top 1\n"
     ]
    },
    {
     "name": "stdout",
     "output_type": "stream",
     "text": [
      "k              1        10        20         5\n",
      "map     0.003642  0.010083  0.012055  0.007688\n",
      "ndcg    0.003642  0.015738  0.023099  0.009854\n",
      "recall  0.003642  0.034934  0.064404  0.016556\n",
      "\n"
     ]
    },
    {
     "data": {
      "text/plain": [
       "Validation: |          | 0/? [00:00<?, ?it/s]"
      ],
      "application/vnd.jupyter.widget-view+json": {
       "version_major": 2,
       "version_minor": 0,
       "model_id": "f88ed71ef5ad406fbedf237962053746"
      }
     },
     "metadata": {},
     "output_type": "display_data"
    },
    {
     "name": "stderr",
     "output_type": "stream",
     "text": [
      "Epoch 10, global step 66: 'recall@10' was not in top 1\n"
     ]
    },
    {
     "name": "stdout",
     "output_type": "stream",
     "text": [
      "k             1        10        20         5\n",
      "map     0.00298  0.009333  0.011464  0.007597\n",
      "ndcg    0.00298  0.014436  0.022464  0.010185\n",
      "recall  0.00298  0.031457  0.063742  0.018212\n",
      "\n"
     ]
    },
    {
     "data": {
      "text/plain": [
       "Validation: |          | 0/? [00:00<?, ?it/s]"
      ],
      "application/vnd.jupyter.widget-view+json": {
       "version_major": 2,
       "version_minor": 0,
       "model_id": "d7089329baa94da6b8992ac2946c126a"
      }
     },
     "metadata": {},
     "output_type": "display_data"
    },
    {
     "name": "stderr",
     "output_type": "stream",
     "text": [
      "Epoch 11, global step 72: 'recall@10' was not in top 1\n"
     ]
    },
    {
     "name": "stdout",
     "output_type": "stream",
     "text": [
      "k              1        10        20         5\n",
      "map     0.003642  0.009476  0.011567  0.007569\n",
      "ndcg    0.003642  0.014399  0.022184  0.009723\n",
      "recall  0.003642  0.030960  0.062086  0.016391\n",
      "\n"
     ]
    },
    {
     "data": {
      "text/plain": [
       "Validation: |          | 0/? [00:00<?, ?it/s]"
      ],
      "application/vnd.jupyter.widget-view+json": {
       "version_major": 2,
       "version_minor": 0,
       "model_id": "d836249f622a4b7da31d36ecb595e1cb"
      }
     },
     "metadata": {},
     "output_type": "display_data"
    },
    {
     "name": "stderr",
     "output_type": "stream",
     "text": [
      "Epoch 12, global step 78: 'recall@10' was not in top 1\n"
     ]
    },
    {
     "name": "stdout",
     "output_type": "stream",
     "text": [
      "k              1        10        20         5\n",
      "map     0.003146  0.009487  0.011454  0.007260\n",
      "ndcg    0.003146  0.014890  0.022160  0.009299\n",
      "recall  0.003146  0.033278  0.062252  0.015563\n",
      "\n"
     ]
    },
    {
     "data": {
      "text/plain": [
       "Validation: |          | 0/? [00:00<?, ?it/s]"
      ],
      "application/vnd.jupyter.widget-view+json": {
       "version_major": 2,
       "version_minor": 0,
       "model_id": "9c1b5e684c7c4691a698c0ecc1ea9520"
      }
     },
     "metadata": {},
     "output_type": "display_data"
    },
    {
     "name": "stderr",
     "output_type": "stream",
     "text": [
      "Epoch 13, global step 84: 'recall@10' was not in top 1\n"
     ]
    },
    {
     "name": "stdout",
     "output_type": "stream",
     "text": [
      "k              1        10        20         5\n",
      "map     0.003642  0.010755  0.012732  0.008449\n",
      "ndcg    0.003642  0.016447  0.023702  0.010777\n",
      "recall  0.003642  0.035596  0.064404  0.017881\n",
      "\n"
     ]
    },
    {
     "data": {
      "text/plain": [
       "Validation: |          | 0/? [00:00<?, ?it/s]"
      ],
      "application/vnd.jupyter.widget-view+json": {
       "version_major": 2,
       "version_minor": 0,
       "model_id": "ce34e698323948fd8e135bb0ad23d2b7"
      }
     },
     "metadata": {},
     "output_type": "display_data"
    },
    {
     "name": "stderr",
     "output_type": "stream",
     "text": [
      "Epoch 14, global step 90: 'recall@10' reached 0.03725 (best 0.03725), saving model to 'C:\\\\Users\\\\misha\\\\Documents\\\\PyProj\\\\Recsys_2_new\\\\.checkpoints_bert4rec\\\\epoch=14-step=90.ckpt' as top 1\n"
     ]
    },
    {
     "name": "stdout",
     "output_type": "stream",
     "text": [
      "k              1        10        20         5\n",
      "map     0.003974  0.011566  0.013708  0.009434\n",
      "ndcg    0.003974  0.017472  0.025428  0.012196\n",
      "recall  0.003974  0.037252  0.069040  0.020695\n",
      "\n"
     ]
    },
    {
     "data": {
      "text/plain": [
       "Validation: |          | 0/? [00:00<?, ?it/s]"
      ],
      "application/vnd.jupyter.widget-view+json": {
       "version_major": 2,
       "version_minor": 0,
       "model_id": "1ed8bd29d989457aa3e001e91435c827"
      }
     },
     "metadata": {},
     "output_type": "display_data"
    },
    {
     "name": "stderr",
     "output_type": "stream",
     "text": [
      "Epoch 15, global step 96: 'recall@10' reached 0.04040 (best 0.04040), saving model to 'C:\\\\Users\\\\misha\\\\Documents\\\\PyProj\\\\Recsys_2_new\\\\.checkpoints_bert4rec\\\\epoch=15-step=96.ckpt' as top 1\n"
     ]
    },
    {
     "name": "stdout",
     "output_type": "stream",
     "text": [
      "k              1        10        20         5\n",
      "map     0.004636  0.012935  0.014892  0.010618\n",
      "ndcg    0.004636  0.019259  0.026574  0.013546\n",
      "recall  0.004636  0.040397  0.069702  0.022517\n",
      "\n"
     ]
    },
    {
     "data": {
      "text/plain": [
       "Validation: |          | 0/? [00:00<?, ?it/s]"
      ],
      "application/vnd.jupyter.widget-view+json": {
       "version_major": 2,
       "version_minor": 0,
       "model_id": "c3c9444776344b5db24aebfb3dc95ab8"
      }
     },
     "metadata": {},
     "output_type": "display_data"
    },
    {
     "name": "stderr",
     "output_type": "stream",
     "text": [
      "Epoch 16, global step 102: 'recall@10' reached 0.04288 (best 0.04288), saving model to 'C:\\\\Users\\\\misha\\\\Documents\\\\PyProj\\\\Recsys_2_new\\\\.checkpoints_bert4rec\\\\epoch=16-step=102.ckpt' as top 1\n"
     ]
    },
    {
     "name": "stdout",
     "output_type": "stream",
     "text": [
      "k              1        10        20         5\n",
      "map     0.003642  0.013085  0.015283  0.010477\n",
      "ndcg    0.003642  0.019949  0.028086  0.013503\n",
      "recall  0.003642  0.042881  0.075331  0.022682\n",
      "\n"
     ]
    },
    {
     "data": {
      "text/plain": [
       "Validation: |          | 0/? [00:00<?, ?it/s]"
      ],
      "application/vnd.jupyter.widget-view+json": {
       "version_major": 2,
       "version_minor": 0,
       "model_id": "8cefa0b18b394ddc869dffc86a16b5b8"
      }
     },
     "metadata": {},
     "output_type": "display_data"
    },
    {
     "name": "stderr",
     "output_type": "stream",
     "text": [
      "Epoch 17, global step 108: 'recall@10' reached 0.04619 (best 0.04619), saving model to 'C:\\\\Users\\\\misha\\\\Documents\\\\PyProj\\\\Recsys_2_new\\\\.checkpoints_bert4rec\\\\epoch=17-step=108.ckpt' as top 1\n"
     ]
    },
    {
     "name": "stdout",
     "output_type": "stream",
     "text": [
      "k              1        10        20         5\n",
      "map     0.005132  0.014246  0.016482  0.011322\n",
      "ndcg    0.005132  0.021559  0.029826  0.014391\n",
      "recall  0.005132  0.046192  0.079139  0.023841\n",
      "\n"
     ]
    },
    {
     "data": {
      "text/plain": [
       "Validation: |          | 0/? [00:00<?, ?it/s]"
      ],
      "application/vnd.jupyter.widget-view+json": {
       "version_major": 2,
       "version_minor": 0,
       "model_id": "4fb593f772f64a80aa311247054b7058"
      }
     },
     "metadata": {},
     "output_type": "display_data"
    },
    {
     "name": "stderr",
     "output_type": "stream",
     "text": [
      "Epoch 18, global step 114: 'recall@10' was not in top 1\n"
     ]
    },
    {
     "name": "stdout",
     "output_type": "stream",
     "text": [
      "k              1        10        20         5\n",
      "map     0.005795  0.015448  0.018170  0.013044\n",
      "ndcg    0.005795  0.022526  0.032581  0.016663\n",
      "recall  0.005795  0.046026  0.086093  0.027815\n",
      "\n"
     ]
    },
    {
     "data": {
      "text/plain": [
       "Validation: |          | 0/? [00:00<?, ?it/s]"
      ],
      "application/vnd.jupyter.widget-view+json": {
       "version_major": 2,
       "version_minor": 0,
       "model_id": "81010cbc239643039ccd854c3bcba98c"
      }
     },
     "metadata": {},
     "output_type": "display_data"
    },
    {
     "name": "stderr",
     "output_type": "stream",
     "text": [
      "Epoch 19, global step 120: 'recall@10' reached 0.04719 (best 0.04719), saving model to 'C:\\\\Users\\\\misha\\\\Documents\\\\PyProj\\\\Recsys_2_new\\\\.checkpoints_bert4rec\\\\epoch=19-step=120.ckpt' as top 1\n"
     ]
    },
    {
     "name": "stdout",
     "output_type": "stream",
     "text": [
      "k              1        10        20         5\n",
      "map     0.006126  0.015701  0.018369  0.012881\n",
      "ndcg    0.006126  0.022946  0.032963  0.016069\n",
      "recall  0.006126  0.047185  0.087417  0.025828\n",
      "\n"
     ]
    },
    {
     "data": {
      "text/plain": [
       "Validation: |          | 0/? [00:00<?, ?it/s]"
      ],
      "application/vnd.jupyter.widget-view+json": {
       "version_major": 2,
       "version_minor": 0,
       "model_id": "817b4d5ed3eb4efabaceae621d3df7ed"
      }
     },
     "metadata": {},
     "output_type": "display_data"
    },
    {
     "name": "stderr",
     "output_type": "stream",
     "text": [
      "Epoch 20, global step 126: 'recall@10' was not in top 1\n"
     ]
    },
    {
     "name": "stdout",
     "output_type": "stream",
     "text": [
      "k              1        10        20         5\n",
      "map     0.006623  0.016012  0.018751  0.013289\n",
      "ndcg    0.006623  0.023185  0.033318  0.016500\n",
      "recall  0.006623  0.047185  0.087583  0.026325\n",
      "\n"
     ]
    },
    {
     "data": {
      "text/plain": [
       "Validation: |          | 0/? [00:00<?, ?it/s]"
      ],
      "application/vnd.jupyter.widget-view+json": {
       "version_major": 2,
       "version_minor": 0,
       "model_id": "a7d40a46dd4745e7b7146e80d703cb00"
      }
     },
     "metadata": {},
     "output_type": "display_data"
    },
    {
     "name": "stderr",
     "output_type": "stream",
     "text": [
      "Epoch 21, global step 132: 'recall@10' was not in top 1\n"
     ]
    },
    {
     "name": "stdout",
     "output_type": "stream",
     "text": [
      "k              1        10        20         5\n",
      "map     0.005464  0.014830  0.017353  0.011984\n",
      "ndcg    0.005464  0.022097  0.031409  0.015069\n",
      "recall  0.005464  0.046523  0.083609  0.024503\n",
      "\n"
     ]
    },
    {
     "data": {
      "text/plain": [
       "Validation: |          | 0/? [00:00<?, ?it/s]"
      ],
      "application/vnd.jupyter.widget-view+json": {
       "version_major": 2,
       "version_minor": 0,
       "model_id": "064be6d825a840e39c6e0f01674aa333"
      }
     },
     "metadata": {},
     "output_type": "display_data"
    },
    {
     "name": "stderr",
     "output_type": "stream",
     "text": [
      "Epoch 22, global step 138: 'recall@10' reached 0.05017 (best 0.05017), saving model to 'C:\\\\Users\\\\misha\\\\Documents\\\\PyProj\\\\Recsys_2_new\\\\.checkpoints_bert4rec\\\\epoch=22-step=138.ckpt' as top 1\n"
     ]
    },
    {
     "name": "stdout",
     "output_type": "stream",
     "text": [
      "k              1        10        20         5\n",
      "map     0.006126  0.016084  0.018789  0.012930\n",
      "ndcg    0.006126  0.023902  0.033883  0.016189\n",
      "recall  0.006126  0.050166  0.089901  0.026159\n",
      "\n"
     ]
    },
    {
     "data": {
      "text/plain": [
       "Validation: |          | 0/? [00:00<?, ?it/s]"
      ],
      "application/vnd.jupyter.widget-view+json": {
       "version_major": 2,
       "version_minor": 0,
       "model_id": "1a29a201f0df4ba9b4a1f7fa28c9494f"
      }
     },
     "metadata": {},
     "output_type": "display_data"
    },
    {
     "name": "stderr",
     "output_type": "stream",
     "text": [
      "Epoch 23, global step 144: 'recall@10' reached 0.05149 (best 0.05149), saving model to 'C:\\\\Users\\\\misha\\\\Documents\\\\PyProj\\\\Recsys_2_new\\\\.checkpoints_bert4rec\\\\epoch=23-step=144.ckpt' as top 1\n"
     ]
    },
    {
     "name": "stdout",
     "output_type": "stream",
     "text": [
      "k              1        10        20         5\n",
      "map     0.007781  0.016950  0.019704  0.013629\n",
      "ndcg    0.007781  0.024818  0.035161  0.016654\n",
      "recall  0.007781  0.051490  0.093046  0.025993\n",
      "\n"
     ]
    },
    {
     "data": {
      "text/plain": [
       "Validation: |          | 0/? [00:00<?, ?it/s]"
      ],
      "application/vnd.jupyter.widget-view+json": {
       "version_major": 2,
       "version_minor": 0,
       "model_id": "927280f7fc6b4907a67c676743d312a3"
      }
     },
     "metadata": {},
     "output_type": "display_data"
    },
    {
     "name": "stderr",
     "output_type": "stream",
     "text": [
      "Epoch 24, global step 150: 'recall@10' reached 0.05298 (best 0.05298), saving model to 'C:\\\\Users\\\\misha\\\\Documents\\\\PyProj\\\\Recsys_2_new\\\\.checkpoints_bert4rec\\\\epoch=24-step=150.ckpt' as top 1\n"
     ]
    },
    {
     "name": "stdout",
     "output_type": "stream",
     "text": [
      "k              1        10        20         5\n",
      "map     0.008609  0.018289  0.021136  0.014959\n",
      "ndcg    0.008609  0.026238  0.036700  0.018192\n",
      "recall  0.008609  0.052980  0.094536  0.028146\n",
      "\n"
     ]
    },
    {
     "data": {
      "text/plain": [
       "Validation: |          | 0/? [00:00<?, ?it/s]"
      ],
      "application/vnd.jupyter.widget-view+json": {
       "version_major": 2,
       "version_minor": 0,
       "model_id": "46f028ad66e04082bf4ed2d72d929d45"
      }
     },
     "metadata": {},
     "output_type": "display_data"
    },
    {
     "name": "stderr",
     "output_type": "stream",
     "text": [
      "Epoch 25, global step 156: 'recall@10' reached 0.05397 (best 0.05397), saving model to 'C:\\\\Users\\\\misha\\\\Documents\\\\PyProj\\\\Recsys_2_new\\\\.checkpoints_bert4rec\\\\epoch=25-step=156.ckpt' as top 1\n"
     ]
    },
    {
     "name": "stdout",
     "output_type": "stream",
     "text": [
      "k              1        10        20         5\n",
      "map     0.006623  0.017788  0.020636  0.014432\n",
      "ndcg    0.006623  0.026121  0.036637  0.017984\n",
      "recall  0.006623  0.053974  0.095861  0.028808\n",
      "\n"
     ]
    },
    {
     "data": {
      "text/plain": [
       "Validation: |          | 0/? [00:00<?, ?it/s]"
      ],
      "application/vnd.jupyter.widget-view+json": {
       "version_major": 2,
       "version_minor": 0,
       "model_id": "3cb96acf56c54d92907705c5745cc414"
      }
     },
     "metadata": {},
     "output_type": "display_data"
    },
    {
     "name": "stderr",
     "output_type": "stream",
     "text": [
      "Epoch 26, global step 162: 'recall@10' was not in top 1\n"
     ]
    },
    {
     "name": "stdout",
     "output_type": "stream",
     "text": [
      "k              1        10        20         5\n",
      "map     0.006788  0.016897  0.020032  0.013982\n",
      "ndcg    0.006788  0.024711  0.036219  0.017424\n",
      "recall  0.006788  0.050993  0.096689  0.027980\n",
      "\n"
     ]
    },
    {
     "data": {
      "text/plain": [
       "Validation: |          | 0/? [00:00<?, ?it/s]"
      ],
      "application/vnd.jupyter.widget-view+json": {
       "version_major": 2,
       "version_minor": 0,
       "model_id": "f7e77db9846240edaae1132403e38bed"
      }
     },
     "metadata": {},
     "output_type": "display_data"
    },
    {
     "name": "stderr",
     "output_type": "stream",
     "text": [
      "Epoch 27, global step 168: 'recall@10' was not in top 1\n"
     ]
    },
    {
     "name": "stdout",
     "output_type": "stream",
     "text": [
      "k             1        10        20         5\n",
      "map     0.00596  0.015574  0.018875  0.012875\n",
      "ndcg    0.00596  0.023361  0.035542  0.016607\n",
      "recall  0.00596  0.049503  0.098013  0.028146\n",
      "\n"
     ]
    },
    {
     "data": {
      "text/plain": [
       "Validation: |          | 0/? [00:00<?, ?it/s]"
      ],
      "application/vnd.jupyter.widget-view+json": {
       "version_major": 2,
       "version_minor": 0,
       "model_id": "749435869fd4459480d255070a194d1b"
      }
     },
     "metadata": {},
     "output_type": "display_data"
    },
    {
     "name": "stderr",
     "output_type": "stream",
     "text": [
      "Epoch 28, global step 174: 'recall@10' reached 0.05513 (best 0.05513), saving model to 'C:\\\\Users\\\\misha\\\\Documents\\\\PyProj\\\\Recsys_2_new\\\\.checkpoints_bert4rec\\\\epoch=28-step=174.ckpt' as top 1\n"
     ]
    },
    {
     "name": "stdout",
     "output_type": "stream",
     "text": [
      "k              1        10        20         5\n",
      "map     0.006788  0.017255  0.020293  0.013750\n",
      "ndcg    0.006788  0.025927  0.037422  0.017391\n",
      "recall  0.006788  0.055132  0.101490  0.028642\n",
      "\n"
     ]
    },
    {
     "data": {
      "text/plain": [
       "Validation: |          | 0/? [00:00<?, ?it/s]"
      ],
      "application/vnd.jupyter.widget-view+json": {
       "version_major": 2,
       "version_minor": 0,
       "model_id": "5f0b27331b854a358679062c887c10b9"
      }
     },
     "metadata": {},
     "output_type": "display_data"
    },
    {
     "name": "stderr",
     "output_type": "stream",
     "text": [
      "Epoch 29, global step 180: 'recall@10' was not in top 1\n"
     ]
    },
    {
     "name": "stdout",
     "output_type": "stream",
     "text": [
      "k              1        10        20         5\n",
      "map     0.006291  0.017685  0.020664  0.014503\n",
      "ndcg    0.006291  0.026245  0.037367  0.018475\n",
      "recall  0.006291  0.054801  0.099338  0.030629\n",
      "\n"
     ]
    },
    {
     "data": {
      "text/plain": [
       "Validation: |          | 0/? [00:00<?, ?it/s]"
      ],
      "application/vnd.jupyter.widget-view+json": {
       "version_major": 2,
       "version_minor": 0,
       "model_id": "cfb28d9ab8354b91bac46a14f4b702a2"
      }
     },
     "metadata": {},
     "output_type": "display_data"
    },
    {
     "name": "stderr",
     "output_type": "stream",
     "text": [
      "Epoch 30, global step 186: 'recall@10' reached 0.05762 (best 0.05762), saving model to 'C:\\\\Users\\\\misha\\\\Documents\\\\PyProj\\\\Recsys_2_new\\\\.checkpoints_bert4rec\\\\epoch=30-step=186.ckpt' as top 1\n"
     ]
    },
    {
     "name": "stdout",
     "output_type": "stream",
     "text": [
      "k              1        10        20         5\n",
      "map     0.006291  0.018796  0.021848  0.015668\n",
      "ndcg    0.006291  0.027795  0.039337  0.020203\n",
      "recall  0.006291  0.057616  0.104139  0.034106\n",
      "\n"
     ]
    },
    {
     "data": {
      "text/plain": [
       "Validation: |          | 0/? [00:00<?, ?it/s]"
      ],
      "application/vnd.jupyter.widget-view+json": {
       "version_major": 2,
       "version_minor": 0,
       "model_id": "c82e5ad7ff2d4fce9c4d44bf5ea3ee8c"
      }
     },
     "metadata": {},
     "output_type": "display_data"
    },
    {
     "name": "stderr",
     "output_type": "stream",
     "text": [
      "Epoch 31, global step 192: 'recall@10' was not in top 1\n"
     ]
    },
    {
     "name": "stdout",
     "output_type": "stream",
     "text": [
      "k              1        10        20         5\n",
      "map     0.006457  0.018133  0.021360  0.015039\n",
      "ndcg    0.006457  0.026977  0.038903  0.019356\n",
      "recall  0.006457  0.056457  0.103974  0.032616\n",
      "\n"
     ]
    },
    {
     "data": {
      "text/plain": [
       "Validation: |          | 0/? [00:00<?, ?it/s]"
      ],
      "application/vnd.jupyter.widget-view+json": {
       "version_major": 2,
       "version_minor": 0,
       "model_id": "e3921357cbe74e559d2b981b7086b097"
      }
     },
     "metadata": {},
     "output_type": "display_data"
    },
    {
     "name": "stderr",
     "output_type": "stream",
     "text": [
      "Epoch 32, global step 198: 'recall@10' reached 0.06192 (best 0.06192), saving model to 'C:\\\\Users\\\\misha\\\\Documents\\\\PyProj\\\\Recsys_2_new\\\\.checkpoints_bert4rec\\\\epoch=32-step=198.ckpt' as top 1\n"
     ]
    },
    {
     "name": "stdout",
     "output_type": "stream",
     "text": [
      "k             1        10        20         5\n",
      "map     0.00745  0.019391  0.022497  0.015613\n",
      "ndcg    0.00745  0.029128  0.040734  0.019816\n",
      "recall  0.00745  0.061921  0.108444  0.032781\n",
      "\n"
     ]
    },
    {
     "data": {
      "text/plain": [
       "Validation: |          | 0/? [00:00<?, ?it/s]"
      ],
      "application/vnd.jupyter.widget-view+json": {
       "version_major": 2,
       "version_minor": 0,
       "model_id": "c325606fd8a34b7d90bb40779e918a1a"
      }
     },
     "metadata": {},
     "output_type": "display_data"
    },
    {
     "name": "stderr",
     "output_type": "stream",
     "text": [
      "Epoch 33, global step 204: 'recall@10' was not in top 1\n"
     ]
    },
    {
     "name": "stdout",
     "output_type": "stream",
     "text": [
      "k              1        10        20         5\n",
      "map     0.007616  0.019783  0.023130  0.016256\n",
      "ndcg    0.007616  0.029247  0.041654  0.020596\n",
      "recall  0.007616  0.060927  0.110430  0.033940\n",
      "\n"
     ]
    },
    {
     "data": {
      "text/plain": [
       "Validation: |          | 0/? [00:00<?, ?it/s]"
      ],
      "application/vnd.jupyter.widget-view+json": {
       "version_major": 2,
       "version_minor": 0,
       "model_id": "d6cbe1e1b345489587b4f7edf486e913"
      }
     },
     "metadata": {},
     "output_type": "display_data"
    },
    {
     "name": "stderr",
     "output_type": "stream",
     "text": [
      "Epoch 34, global step 210: 'recall@10' reached 0.06540 (best 0.06540), saving model to 'C:\\\\Users\\\\misha\\\\Documents\\\\PyProj\\\\Recsys_2_new\\\\.checkpoints_bert4rec\\\\epoch=34-step=210.ckpt' as top 1\n"
     ]
    },
    {
     "name": "stdout",
     "output_type": "stream",
     "text": [
      "k              1        10        20         5\n",
      "map     0.008113  0.021258  0.024673  0.017500\n",
      "ndcg    0.008113  0.031422  0.044074  0.022193\n",
      "recall  0.008113  0.065397  0.115894  0.036589\n",
      "\n"
     ]
    },
    {
     "data": {
      "text/plain": [
       "Validation: |          | 0/? [00:00<?, ?it/s]"
      ],
      "application/vnd.jupyter.widget-view+json": {
       "version_major": 2,
       "version_minor": 0,
       "model_id": "9224b8926c984ccdb8a81ee62096d0c6"
      }
     },
     "metadata": {},
     "output_type": "display_data"
    },
    {
     "name": "stderr",
     "output_type": "stream",
     "text": [
      "Epoch 35, global step 216: 'recall@10' reached 0.06805 (best 0.06805), saving model to 'C:\\\\Users\\\\misha\\\\Documents\\\\PyProj\\\\Recsys_2_new\\\\.checkpoints_bert4rec\\\\epoch=35-step=216.ckpt' as top 1\n"
     ]
    },
    {
     "name": "stdout",
     "output_type": "stream",
     "text": [
      "k              1        10        20         5\n",
      "map     0.008609  0.022261  0.026144  0.018579\n",
      "ndcg    0.008609  0.032804  0.047058  0.023682\n",
      "recall  0.008609  0.068046  0.124669  0.039404\n",
      "\n"
     ]
    },
    {
     "data": {
      "text/plain": [
       "Validation: |          | 0/? [00:00<?, ?it/s]"
      ],
      "application/vnd.jupyter.widget-view+json": {
       "version_major": 2,
       "version_minor": 0,
       "model_id": "3f620ce663624bf599d03dfba7778e6e"
      }
     },
     "metadata": {},
     "output_type": "display_data"
    },
    {
     "name": "stderr",
     "output_type": "stream",
     "text": [
      "Epoch 36, global step 222: 'recall@10' reached 0.08096 (best 0.08096), saving model to 'C:\\\\Users\\\\misha\\\\Documents\\\\PyProj\\\\Recsys_2_new\\\\.checkpoints_bert4rec\\\\epoch=36-step=222.ckpt' as top 1\n"
     ]
    },
    {
     "name": "stdout",
     "output_type": "stream",
     "text": [
      "k              1        10        20         5\n",
      "map     0.010265  0.026303  0.030216  0.021617\n",
      "ndcg    0.010265  0.038849  0.053170  0.027217\n",
      "recall  0.010265  0.080960  0.137748  0.044371\n",
      "\n"
     ]
    },
    {
     "data": {
      "text/plain": [
       "Validation: |          | 0/? [00:00<?, ?it/s]"
      ],
      "application/vnd.jupyter.widget-view+json": {
       "version_major": 2,
       "version_minor": 0,
       "model_id": "90882fac81124a4e82a5446d67e9de2c"
      }
     },
     "metadata": {},
     "output_type": "display_data"
    },
    {
     "name": "stderr",
     "output_type": "stream",
     "text": [
      "Epoch 37, global step 228: 'recall@10' reached 0.09685 (best 0.09685), saving model to 'C:\\\\Users\\\\misha\\\\Documents\\\\PyProj\\\\Recsys_2_new\\\\.checkpoints_bert4rec\\\\epoch=37-step=228.ckpt' as top 1\n"
     ]
    },
    {
     "name": "stdout",
     "output_type": "stream",
     "text": [
      "k              1        10        20         5\n",
      "map     0.015232  0.033170  0.037912  0.027210\n",
      "ndcg    0.015232  0.047751  0.065253  0.033175\n",
      "recall  0.015232  0.096854  0.166556  0.051490\n",
      "\n"
     ]
    },
    {
     "data": {
      "text/plain": [
       "Validation: |          | 0/? [00:00<?, ?it/s]"
      ],
      "application/vnd.jupyter.widget-view+json": {
       "version_major": 2,
       "version_minor": 0,
       "model_id": "438aaf977abd4a93b85ae7f3bc8a411a"
      }
     },
     "metadata": {},
     "output_type": "display_data"
    },
    {
     "name": "stderr",
     "output_type": "stream",
     "text": [
      "Epoch 38, global step 234: 'recall@10' reached 0.10728 (best 0.10728), saving model to 'C:\\\\Users\\\\misha\\\\Documents\\\\PyProj\\\\Recsys_2_new\\\\.checkpoints_bert4rec\\\\epoch=38-step=234.ckpt' as top 1\n"
     ]
    },
    {
     "name": "stdout",
     "output_type": "stream",
     "text": [
      "k              1        10        20         5\n",
      "map     0.015066  0.036427  0.041790  0.030781\n",
      "ndcg    0.015066  0.052742  0.072892  0.038670\n",
      "recall  0.015066  0.107285  0.188245  0.062914\n",
      "\n"
     ]
    },
    {
     "data": {
      "text/plain": [
       "Validation: |          | 0/? [00:00<?, ?it/s]"
      ],
      "application/vnd.jupyter.widget-view+json": {
       "version_major": 2,
       "version_minor": 0,
       "model_id": "31a0ea0ab9af40689244a2063e77f2db"
      }
     },
     "metadata": {},
     "output_type": "display_data"
    },
    {
     "name": "stderr",
     "output_type": "stream",
     "text": [
      "Epoch 39, global step 240: 'recall@10' reached 0.11639 (best 0.11639), saving model to 'C:\\\\Users\\\\misha\\\\Documents\\\\PyProj\\\\Recsys_2_new\\\\.checkpoints_bert4rec\\\\epoch=39-step=240.ckpt' as top 1\n"
     ]
    },
    {
     "name": "stdout",
     "output_type": "stream",
     "text": [
      "k              1        10        20         5\n",
      "map     0.016225  0.040223  0.045989  0.034186\n",
      "ndcg    0.016225  0.057838  0.079345  0.042999\n",
      "recall  0.016225  0.116391  0.202483  0.070033\n",
      "\n"
     ]
    },
    {
     "data": {
      "text/plain": [
       "Validation: |          | 0/? [00:00<?, ?it/s]"
      ],
      "application/vnd.jupyter.widget-view+json": {
       "version_major": 2,
       "version_minor": 0,
       "model_id": "fecf778c3bdb4c139dc95a4fe2eb0011"
      }
     },
     "metadata": {},
     "output_type": "display_data"
    },
    {
     "name": "stderr",
     "output_type": "stream",
     "text": [
      "Epoch 40, global step 246: 'recall@10' was not in top 1\n"
     ]
    },
    {
     "name": "stdout",
     "output_type": "stream",
     "text": [
      "k              1        10        20         5\n",
      "map     0.016391  0.038912  0.044809  0.032861\n",
      "ndcg    0.016391  0.056225  0.077922  0.041216\n",
      "recall  0.016391  0.114073  0.200331  0.066887\n",
      "\n"
     ]
    },
    {
     "data": {
      "text/plain": [
       "Validation: |          | 0/? [00:00<?, ?it/s]"
      ],
      "application/vnd.jupyter.widget-view+json": {
       "version_major": 2,
       "version_minor": 0,
       "model_id": "3f210d30ad6c4273b7c90d1ed1b512d2"
      }
     },
     "metadata": {},
     "output_type": "display_data"
    },
    {
     "name": "stderr",
     "output_type": "stream",
     "text": [
      "Epoch 41, global step 252: 'recall@10' reached 0.12434 (best 0.12434), saving model to 'C:\\\\Users\\\\misha\\\\Documents\\\\PyProj\\\\Recsys_2_new\\\\.checkpoints_bert4rec\\\\epoch=41-step=252.ckpt' as top 1\n"
     ]
    },
    {
     "name": "stdout",
     "output_type": "stream",
     "text": [
      "k              1        10        20         5\n",
      "map     0.015728  0.041135  0.047059  0.034051\n",
      "ndcg    0.015728  0.060314  0.082345  0.042918\n",
      "recall  0.015728  0.124338  0.212417  0.070033\n",
      "\n"
     ]
    },
    {
     "data": {
      "text/plain": [
       "Validation: |          | 0/? [00:00<?, ?it/s]"
      ],
      "application/vnd.jupyter.widget-view+json": {
       "version_major": 2,
       "version_minor": 0,
       "model_id": "526d19ccf9314632baa496cd122f26b5"
      }
     },
     "metadata": {},
     "output_type": "display_data"
    },
    {
     "name": "stderr",
     "output_type": "stream",
     "text": [
      "Epoch 42, global step 258: 'recall@10' reached 0.13825 (best 0.13825), saving model to 'C:\\\\Users\\\\misha\\\\Documents\\\\PyProj\\\\Recsys_2_new\\\\.checkpoints_bert4rec\\\\epoch=42-step=258.ckpt' as top 1\n"
     ]
    },
    {
     "name": "stdout",
     "output_type": "stream",
     "text": [
      "k              1        10        20         5\n",
      "map     0.017715  0.046001  0.051389  0.038411\n",
      "ndcg    0.017715  0.067284  0.087356  0.048625\n",
      "recall  0.017715  0.138245  0.218543  0.079967\n",
      "\n"
     ]
    },
    {
     "data": {
      "text/plain": [
       "Validation: |          | 0/? [00:00<?, ?it/s]"
      ],
      "application/vnd.jupyter.widget-view+json": {
       "version_major": 2,
       "version_minor": 0,
       "model_id": "04dd65d583ac4e70a4d32be0a8018cb0"
      }
     },
     "metadata": {},
     "output_type": "display_data"
    },
    {
     "name": "stderr",
     "output_type": "stream",
     "text": [
      "Epoch 43, global step 264: 'recall@10' was not in top 1\n"
     ]
    },
    {
     "name": "stdout",
     "output_type": "stream",
     "text": [
      "k              1        10        20         5\n",
      "map     0.019702  0.047108  0.053037  0.039790\n",
      "ndcg    0.019702  0.067580  0.089372  0.049665\n",
      "recall  0.019702  0.135762  0.222351  0.079967\n",
      "\n"
     ]
    },
    {
     "data": {
      "text/plain": [
       "Validation: |          | 0/? [00:00<?, ?it/s]"
      ],
      "application/vnd.jupyter.widget-view+json": {
       "version_major": 2,
       "version_minor": 0,
       "model_id": "34aa3c3494244f1480096476022e9974"
      }
     },
     "metadata": {},
     "output_type": "display_data"
    },
    {
     "name": "stderr",
     "output_type": "stream",
     "text": [
      "Epoch 44, global step 270: 'recall@10' was not in top 1\n"
     ]
    },
    {
     "name": "stdout",
     "output_type": "stream",
     "text": [
      "k              1        10        20         5\n",
      "map     0.021358  0.048162  0.053806  0.040510\n",
      "ndcg    0.021358  0.068777  0.089607  0.049965\n",
      "recall  0.021358  0.137748  0.220695  0.078974\n",
      "\n"
     ]
    },
    {
     "data": {
      "text/plain": [
       "Validation: |          | 0/? [00:00<?, ?it/s]"
      ],
      "application/vnd.jupyter.widget-view+json": {
       "version_major": 2,
       "version_minor": 0,
       "model_id": "d83bb10e9e544e749b69a34a7cc0854b"
      }
     },
     "metadata": {},
     "output_type": "display_data"
    },
    {
     "name": "stderr",
     "output_type": "stream",
     "text": [
      "Epoch 45, global step 276: 'recall@10' reached 0.14040 (best 0.14040), saving model to 'C:\\\\Users\\\\misha\\\\Documents\\\\PyProj\\\\Recsys_2_new\\\\.checkpoints_bert4rec\\\\epoch=45-step=276.ckpt' as top 1\n"
     ]
    },
    {
     "name": "stdout",
     "output_type": "stream",
     "text": [
      "k              1        10        20         5\n",
      "map     0.020695  0.048036  0.054157  0.040254\n",
      "ndcg    0.020695  0.069264  0.091680  0.049974\n",
      "recall  0.020695  0.140397  0.229305  0.079801\n",
      "\n"
     ]
    },
    {
     "data": {
      "text/plain": [
       "Validation: |          | 0/? [00:00<?, ?it/s]"
      ],
      "application/vnd.jupyter.widget-view+json": {
       "version_major": 2,
       "version_minor": 0,
       "model_id": "eed8317569404ec99cc6a579798050b4"
      }
     },
     "metadata": {},
     "output_type": "display_data"
    },
    {
     "name": "stderr",
     "output_type": "stream",
     "text": [
      "Epoch 46, global step 282: 'recall@10' reached 0.14967 (best 0.14967), saving model to 'C:\\\\Users\\\\misha\\\\Documents\\\\PyProj\\\\Recsys_2_new\\\\.checkpoints_bert4rec\\\\epoch=46-step=282.ckpt' as top 1\n"
     ]
    },
    {
     "name": "stdout",
     "output_type": "stream",
     "text": [
      "k              1        10        20         5\n",
      "map     0.022682  0.051436  0.057506  0.043275\n",
      "ndcg    0.022682  0.074033  0.096415  0.053926\n",
      "recall  0.022682  0.149669  0.238742  0.086755\n",
      "\n"
     ]
    },
    {
     "data": {
      "text/plain": [
       "Validation: |          | 0/? [00:00<?, ?it/s]"
      ],
      "application/vnd.jupyter.widget-view+json": {
       "version_major": 2,
       "version_minor": 0,
       "model_id": "905f5a9bcbcc4c91a4ceac12f0e12425"
      }
     },
     "metadata": {},
     "output_type": "display_data"
    },
    {
     "name": "stderr",
     "output_type": "stream",
     "text": [
      "Epoch 47, global step 288: 'recall@10' reached 0.15166 (best 0.15166), saving model to 'C:\\\\Users\\\\misha\\\\Documents\\\\PyProj\\\\Recsys_2_new\\\\.checkpoints_bert4rec\\\\epoch=47-step=288.ckpt' as top 1\n"
     ]
    },
    {
     "name": "stdout",
     "output_type": "stream",
     "text": [
      "k              1        10        20         5\n",
      "map     0.022351  0.053749  0.060242  0.046228\n",
      "ndcg    0.022351  0.076437  0.100362  0.057911\n",
      "recall  0.022351  0.151656  0.246854  0.093709\n",
      "\n"
     ]
    },
    {
     "data": {
      "text/plain": [
       "Validation: |          | 0/? [00:00<?, ?it/s]"
      ],
      "application/vnd.jupyter.widget-view+json": {
       "version_major": 2,
       "version_minor": 0,
       "model_id": "b88fe8a925b94ffa9cd8d116a55cc3a3"
      }
     },
     "metadata": {},
     "output_type": "display_data"
    },
    {
     "name": "stderr",
     "output_type": "stream",
     "text": [
      "Epoch 48, global step 294: 'recall@10' reached 0.15215 (best 0.15215), saving model to 'C:\\\\Users\\\\misha\\\\Documents\\\\PyProj\\\\Recsys_2_new\\\\.checkpoints_bert4rec\\\\epoch=48-step=294.ckpt' as top 1\n"
     ]
    },
    {
     "name": "stdout",
     "output_type": "stream",
     "text": [
      "k              1        10        20         5\n",
      "map     0.024007  0.054021  0.060701  0.046115\n",
      "ndcg    0.024007  0.076698  0.101241  0.057313\n",
      "recall  0.024007  0.152152  0.249669  0.091722\n",
      "\n"
     ]
    },
    {
     "data": {
      "text/plain": [
       "Validation: |          | 0/? [00:00<?, ?it/s]"
      ],
      "application/vnd.jupyter.widget-view+json": {
       "version_major": 2,
       "version_minor": 0,
       "model_id": "990bbb4f941e4165921f81bb18514bcf"
      }
     },
     "metadata": {},
     "output_type": "display_data"
    },
    {
     "name": "stderr",
     "output_type": "stream",
     "text": [
      "Epoch 49, global step 300: 'recall@10' reached 0.15315 (best 0.15315), saving model to 'C:\\\\Users\\\\misha\\\\Documents\\\\PyProj\\\\Recsys_2_new\\\\.checkpoints_bert4rec\\\\epoch=49-step=300.ckpt' as top 1\n"
     ]
    },
    {
     "name": "stdout",
     "output_type": "stream",
     "text": [
      "k              1        10        20         5\n",
      "map     0.024503  0.054111  0.060615  0.045723\n",
      "ndcg    0.024503  0.076953  0.100895  0.056489\n",
      "recall  0.024503  0.153146  0.248344  0.089570\n",
      "\n"
     ]
    },
    {
     "data": {
      "text/plain": [
       "Validation: |          | 0/? [00:00<?, ?it/s]"
      ],
      "application/vnd.jupyter.widget-view+json": {
       "version_major": 2,
       "version_minor": 0,
       "model_id": "40a445edcc564c0eaba378ea8e9d906b"
      }
     },
     "metadata": {},
     "output_type": "display_data"
    },
    {
     "name": "stderr",
     "output_type": "stream",
     "text": [
      "Epoch 50, global step 306: 'recall@10' reached 0.15944 (best 0.15944), saving model to 'C:\\\\Users\\\\misha\\\\Documents\\\\PyProj\\\\Recsys_2_new\\\\.checkpoints_bert4rec\\\\epoch=50-step=306.ckpt' as top 1\n"
     ]
    },
    {
     "name": "stdout",
     "output_type": "stream",
     "text": [
      "k              1        10        20         5\n",
      "map     0.024834  0.055542  0.061982  0.046396\n",
      "ndcg    0.024834  0.079427  0.103152  0.057012\n",
      "recall  0.024834  0.159437  0.253808  0.089570\n",
      "\n"
     ]
    },
    {
     "data": {
      "text/plain": [
       "Validation: |          | 0/? [00:00<?, ?it/s]"
      ],
      "application/vnd.jupyter.widget-view+json": {
       "version_major": 2,
       "version_minor": 0,
       "model_id": "863694724fcc449d96d88d6494f3742d"
      }
     },
     "metadata": {},
     "output_type": "display_data"
    },
    {
     "name": "stderr",
     "output_type": "stream",
     "text": [
      "Epoch 51, global step 312: 'recall@10' was not in top 1\n"
     ]
    },
    {
     "name": "stdout",
     "output_type": "stream",
     "text": [
      "k              1        10        20         5\n",
      "map     0.025993  0.057348  0.063897  0.049034\n",
      "ndcg    0.025993  0.080787  0.104814  0.060464\n",
      "recall  0.025993  0.158775  0.254139  0.095530\n",
      "\n"
     ]
    },
    {
     "data": {
      "text/plain": [
       "Validation: |          | 0/? [00:00<?, ?it/s]"
      ],
      "application/vnd.jupyter.widget-view+json": {
       "version_major": 2,
       "version_minor": 0,
       "model_id": "daef69b02ff54c7cabed7715e7046794"
      }
     },
     "metadata": {},
     "output_type": "display_data"
    },
    {
     "name": "stderr",
     "output_type": "stream",
     "text": [
      "Epoch 52, global step 318: 'recall@10' reached 0.16407 (best 0.16407), saving model to 'C:\\\\Users\\\\misha\\\\Documents\\\\PyProj\\\\Recsys_2_new\\\\.checkpoints_bert4rec\\\\epoch=52-step=318.ckpt' as top 1\n"
     ]
    },
    {
     "name": "stdout",
     "output_type": "stream",
     "text": [
      "k              1        10        20         5\n",
      "map     0.025497  0.059364  0.066055  0.051366\n",
      "ndcg    0.025497  0.083641  0.108009  0.063947\n",
      "recall  0.025497  0.164073  0.260430  0.102483\n",
      "\n"
     ]
    },
    {
     "data": {
      "text/plain": [
       "Validation: |          | 0/? [00:00<?, ?it/s]"
      ],
      "application/vnd.jupyter.widget-view+json": {
       "version_major": 2,
       "version_minor": 0,
       "model_id": "750fc85199684d50ad874ab255b902b8"
      }
     },
     "metadata": {},
     "output_type": "display_data"
    },
    {
     "name": "stderr",
     "output_type": "stream",
     "text": [
      "Epoch 53, global step 324: 'recall@10' reached 0.16474 (best 0.16474), saving model to 'C:\\\\Users\\\\misha\\\\Documents\\\\PyProj\\\\Recsys_2_new\\\\.checkpoints_bert4rec\\\\epoch=53-step=324.ckpt' as top 1\n"
     ]
    },
    {
     "name": "stdout",
     "output_type": "stream",
     "text": [
      "k              1        10        20         5\n",
      "map     0.023841  0.057713  0.064089  0.049258\n",
      "ndcg    0.023841  0.082520  0.106081  0.061899\n",
      "recall  0.023841  0.164735  0.258609  0.100662\n",
      "\n"
     ]
    },
    {
     "data": {
      "text/plain": [
       "Validation: |          | 0/? [00:00<?, ?it/s]"
      ],
      "application/vnd.jupyter.widget-view+json": {
       "version_major": 2,
       "version_minor": 0,
       "model_id": "986667e7d0ec491294f84173755e08fd"
      }
     },
     "metadata": {},
     "output_type": "display_data"
    },
    {
     "name": "stderr",
     "output_type": "stream",
     "text": [
      "Epoch 54, global step 330: 'recall@10' was not in top 1\n"
     ]
    },
    {
     "name": "stdout",
     "output_type": "stream",
     "text": [
      "k              1        10        20         5\n",
      "map     0.025993  0.059407  0.065785  0.051471\n",
      "ndcg    0.025993  0.083426  0.106824  0.064047\n",
      "recall  0.025993  0.162914  0.255795  0.102649\n",
      "\n"
     ]
    },
    {
     "data": {
      "text/plain": [
       "Validation: |          | 0/? [00:00<?, ?it/s]"
      ],
      "application/vnd.jupyter.widget-view+json": {
       "version_major": 2,
       "version_minor": 0,
       "model_id": "e0f4b974821c4b1b9840856602d657d7"
      }
     },
     "metadata": {},
     "output_type": "display_data"
    },
    {
     "name": "stderr",
     "output_type": "stream",
     "text": [
      "Epoch 55, global step 336: 'recall@10' was not in top 1\n"
     ]
    },
    {
     "name": "stdout",
     "output_type": "stream",
     "text": [
      "k              1        10        20         5\n",
      "map     0.027152  0.060120  0.066824  0.051976\n",
      "ndcg    0.027152  0.084184  0.108790  0.064185\n",
      "recall  0.027152  0.164073  0.261755  0.101656\n",
      "\n"
     ]
    },
    {
     "data": {
      "text/plain": [
       "Validation: |          | 0/? [00:00<?, ?it/s]"
      ],
      "application/vnd.jupyter.widget-view+json": {
       "version_major": 2,
       "version_minor": 0,
       "model_id": "a6051552ebc44d2696479fc3b8226734"
      }
     },
     "metadata": {},
     "output_type": "display_data"
    },
    {
     "name": "stderr",
     "output_type": "stream",
     "text": [
      "Epoch 56, global step 342: 'recall@10' was not in top 1\n"
     ]
    },
    {
     "name": "stdout",
     "output_type": "stream",
     "text": [
      "k              1        10        20         5\n",
      "map     0.027318  0.060767  0.067586  0.052586\n",
      "ndcg    0.027318  0.084438  0.109374  0.064496\n",
      "recall  0.027318  0.162748  0.261589  0.100828\n",
      "\n"
     ]
    },
    {
     "data": {
      "text/plain": [
       "Validation: |          | 0/? [00:00<?, ?it/s]"
      ],
      "application/vnd.jupyter.widget-view+json": {
       "version_major": 2,
       "version_minor": 0,
       "model_id": "259aaad0059a4f6c9ea0a7c30ad3d8f0"
      }
     },
     "metadata": {},
     "output_type": "display_data"
    },
    {
     "name": "stderr",
     "output_type": "stream",
     "text": [
      "Epoch 57, global step 348: 'recall@10' reached 0.16523 (best 0.16523), saving model to 'C:\\\\Users\\\\misha\\\\Documents\\\\PyProj\\\\Recsys_2_new\\\\.checkpoints_bert4rec\\\\epoch=57-step=348.ckpt' as top 1\n"
     ]
    },
    {
     "name": "stdout",
     "output_type": "stream",
     "text": [
      "k             1        10        20         5\n",
      "map     0.02798  0.061098  0.067964  0.052712\n",
      "ndcg    0.02798  0.085198  0.110528  0.064643\n",
      "recall  0.02798  0.165232  0.266060  0.101159\n",
      "\n"
     ]
    },
    {
     "data": {
      "text/plain": [
       "Validation: |          | 0/? [00:00<?, ?it/s]"
      ],
      "application/vnd.jupyter.widget-view+json": {
       "version_major": 2,
       "version_minor": 0,
       "model_id": "f9fc4aad02dc4c2c94e1800a28267790"
      }
     },
     "metadata": {},
     "output_type": "display_data"
    },
    {
     "name": "stderr",
     "output_type": "stream",
     "text": [
      "Epoch 58, global step 354: 'recall@10' was not in top 1\n"
     ]
    },
    {
     "name": "stdout",
     "output_type": "stream",
     "text": [
      "k              1        10        20         5\n",
      "map     0.026987  0.060084  0.066753  0.051863\n",
      "ndcg    0.026987  0.084080  0.108667  0.063880\n",
      "recall  0.026987  0.163742  0.261589  0.100662\n",
      "\n"
     ]
    },
    {
     "data": {
      "text/plain": [
       "Validation: |          | 0/? [00:00<?, ?it/s]"
      ],
      "application/vnd.jupyter.widget-view+json": {
       "version_major": 2,
       "version_minor": 0,
       "model_id": "3611da2821ee4ae08494789010e771e3"
      }
     },
     "metadata": {},
     "output_type": "display_data"
    },
    {
     "name": "stderr",
     "output_type": "stream",
     "text": [
      "Epoch 59, global step 360: 'recall@10' reached 0.17235 (best 0.17235), saving model to 'C:\\\\Users\\\\misha\\\\Documents\\\\PyProj\\\\Recsys_2_new\\\\.checkpoints_bert4rec\\\\epoch=59-step=360.ckpt' as top 1\n"
     ]
    },
    {
     "name": "stdout",
     "output_type": "stream",
     "text": [
      "k              1        10        20         5\n",
      "map     0.028974  0.063883  0.070578  0.055353\n",
      "ndcg    0.028974  0.088986  0.113551  0.067912\n",
      "recall  0.028974  0.172351  0.269868  0.106291\n",
      "\n"
     ]
    },
    {
     "data": {
      "text/plain": [
       "Validation: |          | 0/? [00:00<?, ?it/s]"
      ],
      "application/vnd.jupyter.widget-view+json": {
       "version_major": 2,
       "version_minor": 0,
       "model_id": "fcdc337b13a543c086ceb13720496ddd"
      }
     },
     "metadata": {},
     "output_type": "display_data"
    },
    {
     "name": "stderr",
     "output_type": "stream",
     "text": [
      "Epoch 60, global step 366: 'recall@10' was not in top 1\n"
     ]
    },
    {
     "name": "stdout",
     "output_type": "stream",
     "text": [
      "k              1        10        20         5\n",
      "map     0.024172  0.059570  0.065944  0.050281\n",
      "ndcg    0.024172  0.085197  0.108669  0.062482\n",
      "recall  0.024172  0.170364  0.263742  0.099669\n",
      "\n"
     ]
    },
    {
     "data": {
      "text/plain": [
       "Validation: |          | 0/? [00:00<?, ?it/s]"
      ],
      "application/vnd.jupyter.widget-view+json": {
       "version_major": 2,
       "version_minor": 0,
       "model_id": "379090602bf24aff867b6f0d508ee352"
      }
     },
     "metadata": {},
     "output_type": "display_data"
    },
    {
     "name": "stderr",
     "output_type": "stream",
     "text": [
      "Epoch 61, global step 372: 'recall@10' was not in top 1\n"
     ]
    },
    {
     "name": "stdout",
     "output_type": "stream",
     "text": [
      "k              1        10        20         5\n",
      "map     0.024669  0.059727  0.066585  0.050698\n",
      "ndcg    0.024669  0.085591  0.110747  0.063388\n",
      "recall  0.024669  0.171689  0.271523  0.102318\n",
      "\n"
     ]
    },
    {
     "data": {
      "text/plain": [
       "Validation: |          | 0/? [00:00<?, ?it/s]"
      ],
      "application/vnd.jupyter.widget-view+json": {
       "version_major": 2,
       "version_minor": 0,
       "model_id": "bef0ef10dbe8446bbe41b81fec673fb8"
      }
     },
     "metadata": {},
     "output_type": "display_data"
    },
    {
     "name": "stderr",
     "output_type": "stream",
     "text": [
      "Epoch 62, global step 378: 'recall@10' reached 0.17533 (best 0.17533), saving model to 'C:\\\\Users\\\\misha\\\\Documents\\\\PyProj\\\\Recsys_2_new\\\\.checkpoints_bert4rec\\\\epoch=62-step=378.ckpt' as top 1\n"
     ]
    },
    {
     "name": "stdout",
     "output_type": "stream",
     "text": [
      "k              1        10        20         5\n",
      "map     0.028146  0.063550  0.070299  0.054219\n",
      "ndcg    0.028146  0.089356  0.114288  0.066410\n",
      "recall  0.028146  0.175331  0.274669  0.103642\n",
      "\n"
     ]
    },
    {
     "data": {
      "text/plain": [
       "Validation: |          | 0/? [00:00<?, ?it/s]"
      ],
      "application/vnd.jupyter.widget-view+json": {
       "version_major": 2,
       "version_minor": 0,
       "model_id": "1262d61677964c21ae24fbc4ea3d3d40"
      }
     },
     "metadata": {},
     "output_type": "display_data"
    },
    {
     "name": "stderr",
     "output_type": "stream",
     "text": [
      "Epoch 63, global step 384: 'recall@10' reached 0.17715 (best 0.17715), saving model to 'C:\\\\Users\\\\misha\\\\Documents\\\\PyProj\\\\Recsys_2_new\\\\.checkpoints_bert4rec\\\\epoch=63-step=384.ckpt' as top 1\n"
     ]
    },
    {
     "name": "stdout",
     "output_type": "stream",
     "text": [
      "k              1        10        20         5\n",
      "map     0.028146  0.063720  0.070396  0.054741\n",
      "ndcg    0.028146  0.089951  0.114437  0.067767\n",
      "recall  0.028146  0.177152  0.274338  0.107616\n",
      "\n"
     ]
    },
    {
     "data": {
      "text/plain": [
       "Validation: |          | 0/? [00:00<?, ?it/s]"
      ],
      "application/vnd.jupyter.widget-view+json": {
       "version_major": 2,
       "version_minor": 0,
       "model_id": "2207044d64c34174a6b45be677504fab"
      }
     },
     "metadata": {},
     "output_type": "display_data"
    },
    {
     "name": "stderr",
     "output_type": "stream",
     "text": [
      "Epoch 64, global step 390: 'recall@10' was not in top 1\n"
     ]
    },
    {
     "name": "stdout",
     "output_type": "stream",
     "text": [
      "k              1        10        20         5\n",
      "map     0.025331  0.061949  0.068663  0.053372\n",
      "ndcg    0.025331  0.088129  0.113018  0.067007\n",
      "recall  0.025331  0.174834  0.274172  0.108775\n",
      "\n"
     ]
    },
    {
     "data": {
      "text/plain": [
       "Validation: |          | 0/? [00:00<?, ?it/s]"
      ],
      "application/vnd.jupyter.widget-view+json": {
       "version_major": 2,
       "version_minor": 0,
       "model_id": "78df41f01d8942bf8ed90b6acb7f4b0f"
      }
     },
     "metadata": {},
     "output_type": "display_data"
    },
    {
     "name": "stderr",
     "output_type": "stream",
     "text": [
      "Epoch 65, global step 396: 'recall@10' was not in top 1\n"
     ]
    },
    {
     "name": "stdout",
     "output_type": "stream",
     "text": [
      "k              1        10        20         5\n",
      "map     0.028146  0.062255  0.068913  0.053259\n",
      "ndcg    0.028146  0.086920  0.111414  0.064908\n",
      "recall  0.028146  0.168874  0.266225  0.100331\n",
      "\n"
     ]
    },
    {
     "data": {
      "text/plain": [
       "Validation: |          | 0/? [00:00<?, ?it/s]"
      ],
      "application/vnd.jupyter.widget-view+json": {
       "version_major": 2,
       "version_minor": 0,
       "model_id": "7188309b1c724037a96a720f41a14f7c"
      }
     },
     "metadata": {},
     "output_type": "display_data"
    },
    {
     "name": "stderr",
     "output_type": "stream",
     "text": [
      "Epoch 66, global step 402: 'recall@10' reached 0.17765 (best 0.17765), saving model to 'C:\\\\Users\\\\misha\\\\Documents\\\\PyProj\\\\Recsys_2_new\\\\.checkpoints_bert4rec\\\\epoch=66-step=402.ckpt' as top 1\n"
     ]
    },
    {
     "name": "stdout",
     "output_type": "stream",
     "text": [
      "k              1        10        20         5\n",
      "map     0.032285  0.066850  0.073912  0.058033\n",
      "ndcg    0.032285  0.092463  0.118533  0.070753\n",
      "recall  0.032285  0.177649  0.281457  0.109768\n",
      "\n"
     ]
    },
    {
     "data": {
      "text/plain": [
       "Validation: |          | 0/? [00:00<?, ?it/s]"
      ],
      "application/vnd.jupyter.widget-view+json": {
       "version_major": 2,
       "version_minor": 0,
       "model_id": "d6fec5107e454749acfa57e5b7f79410"
      }
     },
     "metadata": {},
     "output_type": "display_data"
    },
    {
     "name": "stderr",
     "output_type": "stream",
     "text": [
      "Epoch 67, global step 408: 'recall@10' reached 0.18609 (best 0.18609), saving model to 'C:\\\\Users\\\\misha\\\\Documents\\\\PyProj\\\\Recsys_2_new\\\\.checkpoints_bert4rec\\\\epoch=67-step=408.ckpt' as top 1\n"
     ]
    },
    {
     "name": "stdout",
     "output_type": "stream",
     "text": [
      "k              1        10        20         5\n",
      "map     0.029139  0.066649  0.073614  0.056962\n",
      "ndcg    0.029139  0.094285  0.120009  0.070575\n",
      "recall  0.029139  0.186093  0.288576  0.112252\n",
      "\n"
     ]
    },
    {
     "data": {
      "text/plain": [
       "Validation: |          | 0/? [00:00<?, ?it/s]"
      ],
      "application/vnd.jupyter.widget-view+json": {
       "version_major": 2,
       "version_minor": 0,
       "model_id": "9ad2c04355844c87b7a6572e866b6faf"
      }
     },
     "metadata": {},
     "output_type": "display_data"
    },
    {
     "name": "stderr",
     "output_type": "stream",
     "text": [
      "Epoch 68, global step 414: 'recall@10' was not in top 1\n"
     ]
    },
    {
     "name": "stdout",
     "output_type": "stream",
     "text": [
      "k              1        10        20         5\n",
      "map     0.026656  0.064389  0.071739  0.054774\n",
      "ndcg    0.026656  0.091404  0.118409  0.067828\n",
      "recall  0.026656  0.181126  0.288411  0.107616\n",
      "\n"
     ]
    },
    {
     "data": {
      "text/plain": [
       "Validation: |          | 0/? [00:00<?, ?it/s]"
      ],
      "application/vnd.jupyter.widget-view+json": {
       "version_major": 2,
       "version_minor": 0,
       "model_id": "14d30286c45841f5aca7001392e9c571"
      }
     },
     "metadata": {},
     "output_type": "display_data"
    },
    {
     "name": "stderr",
     "output_type": "stream",
     "text": [
      "Epoch 69, global step 420: 'recall@10' was not in top 1\n"
     ]
    },
    {
     "name": "stdout",
     "output_type": "stream",
     "text": [
      "k              1        10        20         5\n",
      "map     0.028311  0.065839  0.073199  0.056841\n",
      "ndcg    0.028311  0.092702  0.119752  0.070654\n",
      "recall  0.028311  0.181623  0.289073  0.112914\n",
      "\n"
     ]
    },
    {
     "data": {
      "text/plain": [
       "Validation: |          | 0/? [00:00<?, ?it/s]"
      ],
      "application/vnd.jupyter.widget-view+json": {
       "version_major": 2,
       "version_minor": 0,
       "model_id": "dce7783e9a87428aad6436137a1be2c2"
      }
     },
     "metadata": {},
     "output_type": "display_data"
    },
    {
     "name": "stderr",
     "output_type": "stream",
     "text": [
      "Epoch 70, global step 426: 'recall@10' was not in top 1\n"
     ]
    },
    {
     "name": "stdout",
     "output_type": "stream",
     "text": [
      "k             1        10        20         5\n",
      "map     0.02947  0.065629  0.072540  0.056115\n",
      "ndcg    0.02947  0.092125  0.117542  0.068810\n",
      "recall  0.02947  0.180298  0.281291  0.107616\n",
      "\n"
     ]
    },
    {
     "data": {
      "text/plain": [
       "Validation: |          | 0/? [00:00<?, ?it/s]"
      ],
      "application/vnd.jupyter.widget-view+json": {
       "version_major": 2,
       "version_minor": 0,
       "model_id": "35955c8e3ef145e7aa009dbaa36451b2"
      }
     },
     "metadata": {},
     "output_type": "display_data"
    },
    {
     "name": "stderr",
     "output_type": "stream",
     "text": [
      "Epoch 71, global step 432: 'recall@10' reached 0.18891 (best 0.18891), saving model to 'C:\\\\Users\\\\misha\\\\Documents\\\\PyProj\\\\Recsys_2_new\\\\.checkpoints_bert4rec\\\\epoch=71-step=432.ckpt' as top 1\n"
     ]
    },
    {
     "name": "stdout",
     "output_type": "stream",
     "text": [
      "k              1        10        20         5\n",
      "map     0.030132  0.068408  0.075255  0.058640\n",
      "ndcg    0.030132  0.096272  0.121412  0.072293\n",
      "recall  0.030132  0.188907  0.288742  0.114073\n",
      "\n"
     ]
    },
    {
     "data": {
      "text/plain": [
       "Validation: |          | 0/? [00:00<?, ?it/s]"
      ],
      "application/vnd.jupyter.widget-view+json": {
       "version_major": 2,
       "version_minor": 0,
       "model_id": "b98848219be04464843730d1dfe4ff00"
      }
     },
     "metadata": {},
     "output_type": "display_data"
    },
    {
     "name": "stderr",
     "output_type": "stream",
     "text": [
      "Epoch 72, global step 438: 'recall@10' was not in top 1\n"
     ]
    },
    {
     "name": "stdout",
     "output_type": "stream",
     "text": [
      "k              1        10        20         5\n",
      "map     0.031126  0.069304  0.076239  0.059616\n",
      "ndcg    0.031126  0.096870  0.122424  0.073314\n",
      "recall  0.031126  0.188245  0.289901  0.115232\n",
      "\n"
     ]
    },
    {
     "data": {
      "text/plain": [
       "Validation: |          | 0/? [00:00<?, ?it/s]"
      ],
      "application/vnd.jupyter.widget-view+json": {
       "version_major": 2,
       "version_minor": 0,
       "model_id": "d20de0b56a5442088204d20fcc8b489d"
      }
     },
     "metadata": {},
     "output_type": "display_data"
    },
    {
     "name": "stderr",
     "output_type": "stream",
     "text": [
      "Epoch 73, global step 444: 'recall@10' was not in top 1\n"
     ]
    },
    {
     "name": "stdout",
     "output_type": "stream",
     "text": [
      "k              1        10        20         5\n",
      "map     0.028311  0.066492  0.073100  0.057224\n",
      "ndcg    0.028311  0.094802  0.119341  0.072047\n",
      "recall  0.028311  0.188742  0.286755  0.117715\n",
      "\n"
     ]
    },
    {
     "data": {
      "text/plain": [
       "Validation: |          | 0/? [00:00<?, ?it/s]"
      ],
      "application/vnd.jupyter.widget-view+json": {
       "version_major": 2,
       "version_minor": 0,
       "model_id": "a40208b40275487b8c147286ec8e0177"
      }
     },
     "metadata": {},
     "output_type": "display_data"
    },
    {
     "name": "stderr",
     "output_type": "stream",
     "text": [
      "Epoch 74, global step 450: 'recall@10' was not in top 1\n"
     ]
    },
    {
     "name": "stdout",
     "output_type": "stream",
     "text": [
      "k              1        10        20         5\n",
      "map     0.029139  0.067546  0.074672  0.058306\n",
      "ndcg    0.029139  0.095345  0.121575  0.072867\n",
      "recall  0.029139  0.187252  0.291556  0.117550\n",
      "\n"
     ]
    },
    {
     "data": {
      "text/plain": [
       "Validation: |          | 0/? [00:00<?, ?it/s]"
      ],
      "application/vnd.jupyter.widget-view+json": {
       "version_major": 2,
       "version_minor": 0,
       "model_id": "e174b3f2ef5f4b04b204dc97085bd795"
      }
     },
     "metadata": {},
     "output_type": "display_data"
    },
    {
     "name": "stderr",
     "output_type": "stream",
     "text": [
      "Epoch 75, global step 456: 'recall@10' reached 0.19454 (best 0.19454), saving model to 'C:\\\\Users\\\\misha\\\\Documents\\\\PyProj\\\\Recsys_2_new\\\\.checkpoints_bert4rec\\\\epoch=75-step=456.ckpt' as top 1\n"
     ]
    },
    {
     "name": "stdout",
     "output_type": "stream",
     "text": [
      "k              1        10        20         5\n",
      "map     0.028974  0.070595  0.077624  0.061156\n",
      "ndcg    0.028974  0.099410  0.125218  0.076264\n",
      "recall  0.028974  0.194536  0.297020  0.122351\n",
      "\n"
     ]
    },
    {
     "data": {
      "text/plain": [
       "Validation: |          | 0/? [00:00<?, ?it/s]"
      ],
      "application/vnd.jupyter.widget-view+json": {
       "version_major": 2,
       "version_minor": 0,
       "model_id": "63fad683ee50403f9d694fafd697ae78"
      }
     },
     "metadata": {},
     "output_type": "display_data"
    },
    {
     "name": "stderr",
     "output_type": "stream",
     "text": [
      "Epoch 76, global step 462: 'recall@10' was not in top 1\n"
     ]
    },
    {
     "name": "stdout",
     "output_type": "stream",
     "text": [
      "k              1        10        20         5\n",
      "map     0.032781  0.070597  0.077536  0.061076\n",
      "ndcg    0.032781  0.098173  0.123565  0.074663\n",
      "recall  0.032781  0.189901  0.290563  0.116225\n",
      "\n"
     ]
    },
    {
     "data": {
      "text/plain": [
       "Validation: |          | 0/? [00:00<?, ?it/s]"
      ],
      "application/vnd.jupyter.widget-view+json": {
       "version_major": 2,
       "version_minor": 0,
       "model_id": "ce8a045975a543719268f46bc213f448"
      }
     },
     "metadata": {},
     "output_type": "display_data"
    },
    {
     "name": "stderr",
     "output_type": "stream",
     "text": [
      "Epoch 77, global step 468: 'recall@10' was not in top 1\n"
     ]
    },
    {
     "name": "stdout",
     "output_type": "stream",
     "text": [
      "k              1        10        20         5\n",
      "map     0.032616  0.070643  0.078044  0.061639\n",
      "ndcg    0.032616  0.097881  0.125256  0.075769\n",
      "recall  0.032616  0.188079  0.297185  0.119040\n",
      "\n"
     ]
    },
    {
     "data": {
      "text/plain": [
       "Validation: |          | 0/? [00:00<?, ?it/s]"
      ],
      "application/vnd.jupyter.widget-view+json": {
       "version_major": 2,
       "version_minor": 0,
       "model_id": "b7c637c78feb409d830088cb7e9b334c"
      }
     },
     "metadata": {},
     "output_type": "display_data"
    },
    {
     "name": "stderr",
     "output_type": "stream",
     "text": [
      "Epoch 78, global step 474: 'recall@10' reached 0.19735 (best 0.19735), saving model to 'C:\\\\Users\\\\misha\\\\Documents\\\\PyProj\\\\Recsys_2_new\\\\.checkpoints_bert4rec\\\\epoch=78-step=474.ckpt' as top 1\n"
     ]
    },
    {
     "name": "stdout",
     "output_type": "stream",
     "text": [
      "k              1        10        20         5\n",
      "map     0.032285  0.072277  0.079208  0.062017\n",
      "ndcg    0.032285  0.101196  0.126744  0.075937\n",
      "recall  0.032285  0.197351  0.299007  0.118377\n",
      "\n"
     ]
    },
    {
     "data": {
      "text/plain": [
       "Validation: |          | 0/? [00:00<?, ?it/s]"
      ],
      "application/vnd.jupyter.widget-view+json": {
       "version_major": 2,
       "version_minor": 0,
       "model_id": "5d58878e41f74f28b93ad6c7fabf9b4b"
      }
     },
     "metadata": {},
     "output_type": "display_data"
    },
    {
     "name": "stderr",
     "output_type": "stream",
     "text": [
      "Epoch 79, global step 480: 'recall@10' was not in top 1\n"
     ]
    },
    {
     "name": "stdout",
     "output_type": "stream",
     "text": [
      "k              1        10        20         5\n",
      "map     0.031623  0.071474  0.078454  0.061595\n",
      "ndcg    0.031623  0.100287  0.125898  0.076070\n",
      "recall  0.031623  0.195861  0.297517  0.120364\n",
      "\n"
     ]
    },
    {
     "data": {
      "text/plain": [
       "Validation: |          | 0/? [00:00<?, ?it/s]"
      ],
      "application/vnd.jupyter.widget-view+json": {
       "version_major": 2,
       "version_minor": 0,
       "model_id": "8265a556250642449379421b328c3b27"
      }
     },
     "metadata": {},
     "output_type": "display_data"
    },
    {
     "name": "stderr",
     "output_type": "stream",
     "text": [
      "Epoch 80, global step 486: 'recall@10' was not in top 1\n"
     ]
    },
    {
     "name": "stdout",
     "output_type": "stream",
     "text": [
      "k              1        10        20         5\n",
      "map     0.029801  0.068567  0.075963  0.059859\n",
      "ndcg    0.029801  0.095838  0.122986  0.074458\n",
      "recall  0.029801  0.185927  0.293709  0.119205\n",
      "\n"
     ]
    },
    {
     "data": {
      "text/plain": [
       "Validation: |          | 0/? [00:00<?, ?it/s]"
      ],
      "application/vnd.jupyter.widget-view+json": {
       "version_major": 2,
       "version_minor": 0,
       "model_id": "a709e57be1cb45339960af4164169c5e"
      }
     },
     "metadata": {},
     "output_type": "display_data"
    },
    {
     "name": "stderr",
     "output_type": "stream",
     "text": [
      "Epoch 81, global step 492: 'recall@10' was not in top 1\n"
     ]
    },
    {
     "name": "stdout",
     "output_type": "stream",
     "text": [
      "k              1        10        20         5\n",
      "map     0.031291  0.069558  0.076835  0.059705\n",
      "ndcg    0.031291  0.098028  0.124832  0.073682\n",
      "recall  0.031291  0.192881  0.299503  0.116556\n",
      "\n"
     ]
    },
    {
     "data": {
      "text/plain": [
       "Validation: |          | 0/? [00:00<?, ?it/s]"
      ],
      "application/vnd.jupyter.widget-view+json": {
       "version_major": 2,
       "version_minor": 0,
       "model_id": "01d6cf96e7284283bb35622ddfef2266"
      }
     },
     "metadata": {},
     "output_type": "display_data"
    },
    {
     "name": "stderr",
     "output_type": "stream",
     "text": [
      "Epoch 82, global step 498: 'recall@10' was not in top 1\n"
     ]
    },
    {
     "name": "stdout",
     "output_type": "stream",
     "text": [
      "k              1        10        20         5\n",
      "map     0.030464  0.070406  0.077787  0.060626\n",
      "ndcg    0.030464  0.099022  0.126043  0.075248\n",
      "recall  0.030464  0.193709  0.300828  0.120033\n",
      "\n"
     ]
    },
    {
     "data": {
      "text/plain": [
       "Validation: |          | 0/? [00:00<?, ?it/s]"
      ],
      "application/vnd.jupyter.widget-view+json": {
       "version_major": 2,
       "version_minor": 0,
       "model_id": "8a42c0d67b454f33a70e7a1139533c6c"
      }
     },
     "metadata": {},
     "output_type": "display_data"
    },
    {
     "name": "stderr",
     "output_type": "stream",
     "text": [
      "Epoch 83, global step 504: 'recall@10' was not in top 1\n"
     ]
    },
    {
     "name": "stdout",
     "output_type": "stream",
     "text": [
      "k              1        10        20         5\n",
      "map     0.030298  0.069588  0.077309  0.059765\n",
      "ndcg    0.030298  0.098151  0.126363  0.074022\n",
      "recall  0.030298  0.193046  0.304801  0.117715\n",
      "\n"
     ]
    },
    {
     "data": {
      "text/plain": [
       "Validation: |          | 0/? [00:00<?, ?it/s]"
      ],
      "application/vnd.jupyter.widget-view+json": {
       "version_major": 2,
       "version_minor": 0,
       "model_id": "c25ec26ddb924bb0a2576af53f55ea5c"
      }
     },
     "metadata": {},
     "output_type": "display_data"
    },
    {
     "name": "stderr",
     "output_type": "stream",
     "text": [
      "Epoch 84, global step 510: 'recall@10' was not in top 1\n"
     ]
    },
    {
     "name": "stdout",
     "output_type": "stream",
     "text": [
      "k              1        10        20         5\n",
      "map     0.028146  0.067260  0.074807  0.057848\n",
      "ndcg    0.028146  0.095401  0.123042  0.072376\n",
      "recall  0.028146  0.188576  0.298179  0.116887\n",
      "\n"
     ]
    },
    {
     "data": {
      "text/plain": [
       "Validation: |          | 0/? [00:00<?, ?it/s]"
      ],
      "application/vnd.jupyter.widget-view+json": {
       "version_major": 2,
       "version_minor": 0,
       "model_id": "6684b1cedfe44c368fc64e774ecabe13"
      }
     },
     "metadata": {},
     "output_type": "display_data"
    },
    {
     "name": "stderr",
     "output_type": "stream",
     "text": [
      "Epoch 85, global step 516: 'recall@10' was not in top 1\n"
     ]
    },
    {
     "name": "stdout",
     "output_type": "stream",
     "text": [
      "k              1        10        20         5\n",
      "map     0.032119  0.071243  0.078563  0.061874\n",
      "ndcg    0.032119  0.099449  0.126500  0.076497\n",
      "recall  0.032119  0.192881  0.300662  0.121358\n",
      "\n"
     ]
    },
    {
     "data": {
      "text/plain": [
       "Validation: |          | 0/? [00:00<?, ?it/s]"
      ],
      "application/vnd.jupyter.widget-view+json": {
       "version_major": 2,
       "version_minor": 0,
       "model_id": "2c8f2bf1d7184b3082f7991b18d49051"
      }
     },
     "metadata": {},
     "output_type": "display_data"
    },
    {
     "name": "stderr",
     "output_type": "stream",
     "text": [
      "Epoch 86, global step 522: 'recall@10' reached 0.20000 (best 0.20000), saving model to 'C:\\\\Users\\\\misha\\\\Documents\\\\PyProj\\\\Recsys_2_new\\\\.checkpoints_bert4rec\\\\epoch=86-step=522.ckpt' as top 1\n"
     ]
    },
    {
     "name": "stdout",
     "output_type": "stream",
     "text": [
      "k             1        10        20         5\n",
      "map     0.03394  0.075467  0.083025  0.066090\n",
      "ndcg    0.03394  0.104417  0.132018  0.081457\n",
      "recall  0.03394  0.200000  0.309272  0.128477\n",
      "\n"
     ]
    },
    {
     "data": {
      "text/plain": [
       "Validation: |          | 0/? [00:00<?, ?it/s]"
      ],
      "application/vnd.jupyter.widget-view+json": {
       "version_major": 2,
       "version_minor": 0,
       "model_id": "1a5be1623dbf4c558df88f4ce0730d44"
      }
     },
     "metadata": {},
     "output_type": "display_data"
    },
    {
     "name": "stderr",
     "output_type": "stream",
     "text": [
      "Epoch 87, global step 528: 'recall@10' was not in top 1\n"
     ]
    },
    {
     "name": "stdout",
     "output_type": "stream",
     "text": [
      "k              1        10        20         5\n",
      "map     0.031457  0.072520  0.079884  0.062950\n",
      "ndcg    0.031457  0.101208  0.128233  0.077772\n",
      "recall  0.031457  0.196026  0.303311  0.123013\n",
      "\n"
     ]
    },
    {
     "data": {
      "text/plain": [
       "Validation: |          | 0/? [00:00<?, ?it/s]"
      ],
      "application/vnd.jupyter.widget-view+json": {
       "version_major": 2,
       "version_minor": 0,
       "model_id": "1d2859bab23f490a94f17d6504668006"
      }
     },
     "metadata": {},
     "output_type": "display_data"
    },
    {
     "name": "stderr",
     "output_type": "stream",
     "text": [
      "Epoch 88, global step 534: 'recall@10' reached 0.20298 (best 0.20298), saving model to 'C:\\\\Users\\\\misha\\\\Documents\\\\PyProj\\\\Recsys_2_new\\\\.checkpoints_bert4rec\\\\epoch=88-step=534.ckpt' as top 1\n"
     ]
    },
    {
     "name": "stdout",
     "output_type": "stream",
     "text": [
      "k              1        10        20         5\n",
      "map     0.034603  0.074709  0.081936  0.064556\n",
      "ndcg    0.034603  0.104384  0.130821  0.079480\n",
      "recall  0.034603  0.202980  0.307781  0.125331\n",
      "\n"
     ]
    },
    {
     "data": {
      "text/plain": [
       "Validation: |          | 0/? [00:00<?, ?it/s]"
      ],
      "application/vnd.jupyter.widget-view+json": {
       "version_major": 2,
       "version_minor": 0,
       "model_id": "4e0fb95b98414250846804617669b180"
      }
     },
     "metadata": {},
     "output_type": "display_data"
    },
    {
     "name": "stderr",
     "output_type": "stream",
     "text": [
      "Epoch 89, global step 540: 'recall@10' was not in top 1\n"
     ]
    },
    {
     "name": "stdout",
     "output_type": "stream",
     "text": [
      "k              1        10        20         5\n",
      "map     0.032119  0.071515  0.079195  0.061992\n",
      "ndcg    0.032119  0.099659  0.127877  0.076303\n",
      "recall  0.032119  0.192881  0.304967  0.120033\n",
      "\n"
     ]
    },
    {
     "data": {
      "text/plain": [
       "Validation: |          | 0/? [00:00<?, ?it/s]"
      ],
      "application/vnd.jupyter.widget-view+json": {
       "version_major": 2,
       "version_minor": 0,
       "model_id": "a2b979367dc042f6ae9b2b01d1d12a27"
      }
     },
     "metadata": {},
     "output_type": "display_data"
    },
    {
     "name": "stderr",
     "output_type": "stream",
     "text": [
      "Epoch 90, global step 546: 'recall@10' was not in top 1\n"
     ]
    },
    {
     "name": "stdout",
     "output_type": "stream",
     "text": [
      "k             1        10        20         5\n",
      "map     0.03394  0.073260  0.081169  0.063551\n",
      "ndcg    0.03394  0.101697  0.130749  0.077874\n",
      "recall  0.03394  0.196026  0.311424  0.121689\n",
      "\n"
     ]
    },
    {
     "data": {
      "text/plain": [
       "Validation: |          | 0/? [00:00<?, ?it/s]"
      ],
      "application/vnd.jupyter.widget-view+json": {
       "version_major": 2,
       "version_minor": 0,
       "model_id": "882a33d322a1488da9dcf7ee209be3f3"
      }
     },
     "metadata": {},
     "output_type": "display_data"
    },
    {
     "name": "stderr",
     "output_type": "stream",
     "text": [
      "Epoch 91, global step 552: 'recall@10' was not in top 1\n"
     ]
    },
    {
     "name": "stdout",
     "output_type": "stream",
     "text": [
      "k              1        10        20         5\n",
      "map     0.031954  0.072249  0.080008  0.062472\n",
      "ndcg    0.031954  0.101079  0.129617  0.077215\n",
      "recall  0.031954  0.196523  0.309934  0.122351\n",
      "\n"
     ]
    },
    {
     "data": {
      "text/plain": [
       "Validation: |          | 0/? [00:00<?, ?it/s]"
      ],
      "application/vnd.jupyter.widget-view+json": {
       "version_major": 2,
       "version_minor": 0,
       "model_id": "893e43831a07480990325bbc98b05f57"
      }
     },
     "metadata": {},
     "output_type": "display_data"
    },
    {
     "name": "stderr",
     "output_type": "stream",
     "text": [
      "Epoch 92, global step 558: 'recall@10' was not in top 1\n"
     ]
    },
    {
     "name": "stdout",
     "output_type": "stream",
     "text": [
      "k              1        10        20         5\n",
      "map     0.035265  0.076712  0.084342  0.067100\n",
      "ndcg    0.035265  0.105768  0.133622  0.082164\n",
      "recall  0.035265  0.201821  0.312086  0.128146\n",
      "\n"
     ]
    },
    {
     "data": {
      "text/plain": [
       "Validation: |          | 0/? [00:00<?, ?it/s]"
      ],
      "application/vnd.jupyter.widget-view+json": {
       "version_major": 2,
       "version_minor": 0,
       "model_id": "0344d34eda4f4014a2f6e7c6c1863907"
      }
     },
     "metadata": {},
     "output_type": "display_data"
    },
    {
     "name": "stderr",
     "output_type": "stream",
     "text": [
      "Epoch 93, global step 564: 'recall@10' was not in top 1\n"
     ]
    },
    {
     "name": "stdout",
     "output_type": "stream",
     "text": [
      "k              1        10        20         5\n",
      "map     0.033609  0.075026  0.082626  0.065687\n",
      "ndcg    0.033609  0.103925  0.131933  0.080879\n",
      "recall  0.033609  0.199503  0.310927  0.127318\n",
      "\n"
     ]
    },
    {
     "data": {
      "text/plain": [
       "Validation: |          | 0/? [00:00<?, ?it/s]"
      ],
      "application/vnd.jupyter.widget-view+json": {
       "version_major": 2,
       "version_minor": 0,
       "model_id": "c957b51ff0ae4a35bf0928431fac5766"
      }
     },
     "metadata": {},
     "output_type": "display_data"
    },
    {
     "name": "stderr",
     "output_type": "stream",
     "text": [
      "Epoch 94, global step 570: 'recall@10' was not in top 1\n"
     ]
    },
    {
     "name": "stdout",
     "output_type": "stream",
     "text": [
      "k              1        10        20         5\n",
      "map     0.033444  0.074483  0.082191  0.064688\n",
      "ndcg    0.033444  0.103530  0.131729  0.079650\n",
      "recall  0.033444  0.199503  0.311258  0.125331\n",
      "\n"
     ]
    },
    {
     "data": {
      "text/plain": [
       "Validation: |          | 0/? [00:00<?, ?it/s]"
      ],
      "application/vnd.jupyter.widget-view+json": {
       "version_major": 2,
       "version_minor": 0,
       "model_id": "94d08046a82d479bbcc1b3ca073edd28"
      }
     },
     "metadata": {},
     "output_type": "display_data"
    },
    {
     "name": "stderr",
     "output_type": "stream",
     "text": [
      "Epoch 95, global step 576: 'recall@10' was not in top 1\n"
     ]
    },
    {
     "name": "stdout",
     "output_type": "stream",
     "text": [
      "k              1        10        20         5\n",
      "map     0.031126  0.071931  0.079539  0.062139\n",
      "ndcg    0.031126  0.101044  0.129115  0.077100\n",
      "recall  0.031126  0.197351  0.309106  0.122848\n",
      "\n"
     ]
    },
    {
     "data": {
      "text/plain": [
       "Validation: |          | 0/? [00:00<?, ?it/s]"
      ],
      "application/vnd.jupyter.widget-view+json": {
       "version_major": 2,
       "version_minor": 0,
       "model_id": "af99d358ee694ab58f0d95a192c48cc7"
      }
     },
     "metadata": {},
     "output_type": "display_data"
    },
    {
     "name": "stderr",
     "output_type": "stream",
     "text": [
      "Epoch 96, global step 582: 'recall@10' was not in top 1\n"
     ]
    },
    {
     "name": "stdout",
     "output_type": "stream",
     "text": [
      "k              1        10        20         5\n",
      "map     0.031623  0.070336  0.077616  0.060938\n",
      "ndcg    0.031623  0.098203  0.125038  0.075162\n",
      "recall  0.031623  0.190563  0.297351  0.118709\n",
      "\n"
     ]
    },
    {
     "data": {
      "text/plain": [
       "Validation: |          | 0/? [00:00<?, ?it/s]"
      ],
      "application/vnd.jupyter.widget-view+json": {
       "version_major": 2,
       "version_minor": 0,
       "model_id": "796f3752ed0a4fb8b274fd0f512d9d53"
      }
     },
     "metadata": {},
     "output_type": "display_data"
    },
    {
     "name": "stderr",
     "output_type": "stream",
     "text": [
      "Epoch 97, global step 588: 'recall@10' was not in top 1\n"
     ]
    },
    {
     "name": "stdout",
     "output_type": "stream",
     "text": [
      "k              1        10        20         5\n",
      "map     0.034106  0.072583  0.080374  0.062969\n",
      "ndcg    0.034106  0.100707  0.129476  0.076944\n",
      "recall  0.034106  0.194205  0.308775  0.119702\n",
      "\n"
     ]
    },
    {
     "data": {
      "text/plain": [
       "Validation: |          | 0/? [00:00<?, ?it/s]"
      ],
      "application/vnd.jupyter.widget-view+json": {
       "version_major": 2,
       "version_minor": 0,
       "model_id": "c97b74d87a5945799925e3d5683224db"
      }
     },
     "metadata": {},
     "output_type": "display_data"
    },
    {
     "name": "stderr",
     "output_type": "stream",
     "text": [
      "Epoch 98, global step 594: 'recall@10' was not in top 1\n"
     ]
    },
    {
     "name": "stdout",
     "output_type": "stream",
     "text": [
      "k              1        10        20         5\n",
      "map     0.032285  0.073943  0.081693  0.064291\n",
      "ndcg    0.032285  0.103156  0.131817  0.079385\n",
      "recall  0.032285  0.199834  0.314073  0.125497\n",
      "\n"
     ]
    },
    {
     "data": {
      "text/plain": [
       "Validation: |          | 0/? [00:00<?, ?it/s]"
      ],
      "application/vnd.jupyter.widget-view+json": {
       "version_major": 2,
       "version_minor": 0,
       "model_id": "926ef92f53b64cebbc7f5be6dd3eafdb"
      }
     },
     "metadata": {},
     "output_type": "display_data"
    },
    {
     "name": "stderr",
     "output_type": "stream",
     "text": [
      "Epoch 99, global step 600: 'recall@10' was not in top 1\n",
      "`Trainer.fit` stopped: `max_epochs=100` reached.\n"
     ]
    },
    {
     "name": "stdout",
     "output_type": "stream",
     "text": [
      "k              1        10        20         5\n",
      "map     0.033444  0.074046  0.081561  0.063689\n",
      "ndcg    0.033444  0.103725  0.131597  0.078373\n",
      "recall  0.033444  0.202318  0.313576  0.123344\n",
      "\n"
     ]
    }
   ],
   "execution_count": 13
  },
  {
   "metadata": {
    "ExecuteTime": {
     "end_time": "2024-10-24T16:54:57.974685Z",
     "start_time": "2024-10-24T16:54:57.664017Z"
    }
   },
   "cell_type": "code",
   "source": "best_model = Bert4Rec.load_from_checkpoint(checkpoint_callback.best_model_path)",
   "id": "9d16aaa4c8579470",
   "outputs": [],
   "execution_count": 14
  },
  {
   "metadata": {
    "ExecuteTime": {
     "end_time": "2024-10-24T16:55:03.483523Z",
     "start_time": "2024-10-24T16:55:03.444429Z"
    }
   },
   "cell_type": "code",
   "source": [
    "prediction_dataloader = DataLoader(\n",
    "    dataset=Bert4RecPredictionDataset(\n",
    "        sequential_test_dataset,\n",
    "        max_sequence_length=MAX_SEQ_LEN,\n",
    "    ),\n",
    "    batch_size=BATCH_SIZE,\n",
    "    num_workers=NUM_WORKERS,\n",
    "    pin_memory=True,\n",
    ")\n",
    "\n",
    "csv_logger = CSVLogger(save_dir=\".logs/test\", name=\"Bert4Rec_example\")"
   ],
   "id": "3c8401df4cd2718",
   "outputs": [],
   "execution_count": 15
  },
  {
   "metadata": {
    "ExecuteTime": {
     "end_time": "2024-10-24T16:58:05.811758Z",
     "start_time": "2024-10-24T16:57:52.747001Z"
    }
   },
   "cell_type": "code",
   "source": [
    "TOPK = [10]\n",
    "\n",
    "postprocessors = [RemoveSeenItems(sequential_test_dataset)]\n",
    "\n",
    "pandas_prediction_callback = PandasPredictionCallback(\n",
    "    top_k=max(TOPK),\n",
    "    query_column=\"user_id\",\n",
    "    item_column=\"item_id\",\n",
    "    rating_column=\"score\",\n",
    "    postprocessors=postprocessors,\n",
    ")\n",
    "\n",
    "\n",
    "query_embeddings_callback = QueryEmbeddingsPredictionCallback()\n",
    "\n",
    "trainer = L.Trainer(\n",
    "    callbacks=[\n",
    "        pandas_prediction_callback,\n",
    "        query_embeddings_callback,\n",
    "    ], \n",
    "    logger=csv_logger, \n",
    "    inference_mode=True\n",
    ")\n",
    "trainer.predict(best_model, dataloaders=prediction_dataloader, return_predictions=False)\n",
    "\n",
    "pandas_res = pandas_prediction_callback.get_result()\n",
    "user_embeddings = query_embeddings_callback.get_result()"
   ],
   "id": "aefe121317235d79",
   "outputs": [
    {
     "name": "stderr",
     "output_type": "stream",
     "text": [
      "GPU available: True (cuda), used: True\n",
      "TPU available: False, using: 0 TPU cores\n",
      "HPU available: False, using: 0 HPUs\n",
      "LOCAL_RANK: 0 - CUDA_VISIBLE_DEVICES: [0]\n",
      "C:\\Users\\misha\\Documents\\PyProj\\Recsys_2_new\\.venv\\lib\\site-packages\\lightning\\pytorch\\trainer\\connectors\\data_connector.py:419: Consider setting `persistent_workers=True` in 'predict_dataloader' to speed up the dataloader worker initialization.\n"
     ]
    },
    {
     "data": {
      "text/plain": [
       "Predicting: |          | 0/? [00:00<?, ?it/s]"
      ],
      "application/vnd.jupyter.widget-view+json": {
       "version_major": 2,
       "version_minor": 0,
       "model_id": "c5cf7fd35da344df9e91d9ceeaffba49"
      }
     },
     "metadata": {},
     "output_type": "display_data"
    }
   ],
   "execution_count": 26
  },
  {
   "metadata": {
    "ExecuteTime": {
     "end_time": "2024-10-24T16:58:06.641501Z",
     "start_time": "2024-10-24T16:58:06.591917Z"
    }
   },
   "cell_type": "code",
   "source": "recommendations = tokenizer.query_and_item_id_encoder.inverse_transform(pandas_res)",
   "id": "83e1254129748e96",
   "outputs": [],
   "execution_count": 27
  },
  {
   "metadata": {
    "ExecuteTime": {
     "end_time": "2024-10-24T16:58:07.123668Z",
     "start_time": "2024-10-24T16:58:07.113161Z"
    }
   },
   "cell_type": "code",
   "source": "init_args = {\"query_column\": \"user_id\", \"rating_column\": \"score\"}",
   "id": "f3b8574d869dfd26",
   "outputs": [],
   "execution_count": 28
  },
  {
   "metadata": {
    "ExecuteTime": {
     "end_time": "2024-10-24T16:58:08.615809Z",
     "start_time": "2024-10-24T16:58:07.584056Z"
    }
   },
   "cell_type": "code",
   "source": [
    "result_metrics = OfflineMetrics(\n",
    "    [Recall(TOPK), Precision(TOPK), MAP(TOPK), NDCG(TOPK), MRR(TOPK), HitRate(TOPK)], **init_args)(recommendations, raw_test_gt)"
   ],
   "id": "48a0ba5d919cfb24",
   "outputs": [],
   "execution_count": 29
  },
  {
   "metadata": {
    "ExecuteTime": {
     "end_time": "2024-10-24T16:58:08.630967Z",
     "start_time": "2024-10-24T16:58:08.625444Z"
    }
   },
   "cell_type": "code",
   "source": "result_metrics",
   "id": "392b510bcb751d6c",
   "outputs": [
    {
     "data": {
      "text/plain": [
       "{'Recall@10': 0.1956953642384106,\n",
       " 'Precision@10': 0.01956953642384106,\n",
       " 'MAP@10': 0.07520885892988542,\n",
       " 'NDCG@10': 0.1032067555833944,\n",
       " 'MRR@10': 0.07520885892988542,\n",
       " 'HitRate@10': 0.1956953642384106}"
      ]
     },
     "execution_count": 30,
     "metadata": {},
     "output_type": "execute_result"
    }
   ],
   "execution_count": 30
  },
  {
   "metadata": {
    "ExecuteTime": {
     "end_time": "2024-10-24T16:58:14.842985Z",
     "start_time": "2024-10-24T16:58:14.671741Z"
    }
   },
   "cell_type": "code",
   "source": [
    "submission_df = recommendations.groupby('user_id')['item_id'].apply(lambda x: ' '.join(x.astype(str))).reset_index()\n",
    "submission_df\n",
    "submission_df.to_csv('test_sub_4.csv', index=False)"
   ],
   "id": "8d43355de0e20c50",
   "outputs": [],
   "execution_count": 31
  },
  {
   "metadata": {},
   "cell_type": "code",
   "outputs": [],
   "execution_count": null,
   "source": "",
   "id": "29f2ca07fac83aad"
  }
 ],
 "metadata": {
  "kernelspec": {
   "display_name": "Python 3",
   "language": "python",
   "name": "python3"
  },
  "language_info": {
   "codemirror_mode": {
    "name": "ipython",
    "version": 2
   },
   "file_extension": ".py",
   "mimetype": "text/x-python",
   "name": "python",
   "nbconvert_exporter": "python",
   "pygments_lexer": "ipython2",
   "version": "2.7.6"
  }
 },
 "nbformat": 4,
 "nbformat_minor": 5
}
